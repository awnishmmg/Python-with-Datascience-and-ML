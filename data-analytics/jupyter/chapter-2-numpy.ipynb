{
 "cells": [
  {
   "cell_type": "code",
   "execution_count": 22,
   "id": "0acd7ba7-2e51-4f8b-ba4c-01c2e8293ad7",
   "metadata": {},
   "outputs": [],
   "source": [
    "import numpy as np"
   ]
  },
  {
   "cell_type": "markdown",
   "id": "e7015338-710d-40d4-a874-f9ed9be5cc31",
   "metadata": {},
   "source": [
    "### Basic Array Manipulations Techniques "
   ]
  },
  {
   "cell_type": "markdown",
   "id": "2b7989c4-c904-47c1-86b0-e911f357bb26",
   "metadata": {},
   "source": [
    "**In numpy we have concept of something called as shape, order or dimension these are only applicable for lower dimension\n",
    "1d,2d and 3d. but we are going in the higher dimension then instead of using order or shape we use term called as axis.**\n",
    "\n",
    "1. axis 1\n",
    "2. axis 0\n",
    "\n",
    "or \n",
    "\n",
    "**Element wise distribution** \n",
    "\n",
    "1. Row wise \n",
    "2. column wise"
   ]
  },
  {
   "cell_type": "code",
   "execution_count": 23,
   "id": "5708dade-9a39-4d6d-a21e-ef99bca6260e",
   "metadata": {},
   "outputs": [],
   "source": [
    "np = np.array([1,2,3,4])"
   ]
  },
  {
   "cell_type": "code",
   "execution_count": 24,
   "id": "84a7ce3c-34d2-4796-805d-81213fc7b2b7",
   "metadata": {},
   "outputs": [
    {
     "name": "stdout",
     "output_type": "stream",
     "text": [
      "[1 2 3 4]\n"
     ]
    }
   ],
   "source": [
    "print(np)"
   ]
  },
  {
   "cell_type": "code",
   "execution_count": 25,
   "id": "cdc2d33e-02a3-4ed5-894d-5e19450e61eb",
   "metadata": {},
   "outputs": [
    {
     "name": "stdout",
     "output_type": "stream",
     "text": [
      "int64\n"
     ]
    }
   ],
   "source": [
    "print(np.dtype)"
   ]
  },
  {
   "cell_type": "code",
   "execution_count": 27,
   "id": "ab46c02b-04bb-4245-8528-dc62704e28fb",
   "metadata": {},
   "outputs": [],
   "source": [
    "import numpy as np"
   ]
  },
  {
   "cell_type": "markdown",
   "id": "2283439b-2590-4c63-b336-ac2a32e5b99a",
   "metadata": {},
   "source": [
    "** The Numpy array is homogenous array **"
   ]
  },
  {
   "cell_type": "code",
   "execution_count": 30,
   "id": "87d88aa0-d5e7-48ee-8a57-508fdfc2f87b",
   "metadata": {},
   "outputs": [
    {
     "name": "stdout",
     "output_type": "stream",
     "text": [
      "dtype of A= float64\n"
     ]
    }
   ],
   "source": [
    "A = np.array([1.3,2,3,4])\n",
    "print('dtype of A=',A.dtype)  #This concept is called as type promotion"
   ]
  },
  {
   "cell_type": "code",
   "execution_count": 31,
   "id": "1cdc907b-12af-4cbc-9100-8388754f38a7",
   "metadata": {},
   "outputs": [
    {
     "name": "stdout",
     "output_type": "stream",
     "text": [
      "[1.3 2.  3.  4. ]\n"
     ]
    }
   ],
   "source": [
    "print(A)"
   ]
  },
  {
   "cell_type": "code",
   "execution_count": 32,
   "id": "e8da6642-c73d-4d4a-9d8d-ae05e6687e05",
   "metadata": {},
   "outputs": [
    {
     "name": "stdout",
     "output_type": "stream",
     "text": [
      "dtype of B= <U32\n",
      "Value of B ['1.3' '2' '3' '4' '5']\n"
     ]
    }
   ],
   "source": [
    "B = np.array([1.3,2,3,4,\"5\"]) # String > float > int\n",
    "print('dtype of B=',B.dtype)  #This concept is called as type promotion\n",
    "print('Value of B',B)"
   ]
  },
  {
   "cell_type": "code",
   "execution_count": 34,
   "id": "ceba8669-fdf2-4902-aadc-65abb2ca16fc",
   "metadata": {},
   "outputs": [
    {
     "name": "stdout",
     "output_type": "stream",
     "text": [
      "ndim of Array= 1\n"
     ]
    }
   ],
   "source": [
    "print('ndim of Array=',B.ndim)"
   ]
  },
  {
   "cell_type": "code",
   "execution_count": 35,
   "id": "3616957f-4bb9-4399-b15a-186ed96dbad0",
   "metadata": {},
   "outputs": [
    {
     "name": "stdout",
     "output_type": "stream",
     "text": [
      "shape of B= (5,)\n"
     ]
    }
   ],
   "source": [
    "print('shape of B=',B.shape)"
   ]
  },
  {
   "cell_type": "code",
   "execution_count": 36,
   "id": "82ccc90a-4b7d-40ed-99a5-f9fdcd119a9e",
   "metadata": {},
   "outputs": [
    {
     "name": "stdout",
     "output_type": "stream",
     "text": [
      "reshape ['1.3' '2' '3' '4' '5']\n"
     ]
    }
   ],
   "source": [
    "print('reshape',B.reshape(-1))"
   ]
  },
  {
   "cell_type": "code",
   "execution_count": 41,
   "id": "115c5b2f-a313-47aa-98a4-191d47ac1381",
   "metadata": {},
   "outputs": [
    {
     "name": "stdout",
     "output_type": "stream",
     "text": [
      "reshape [['1.3']\n",
      " ['2']\n",
      " ['3']\n",
      " ['4']\n",
      " ['5']]\n"
     ]
    }
   ],
   "source": [
    "print('reshape',B.reshape((5,1)))"
   ]
  },
  {
   "cell_type": "code",
   "execution_count": 42,
   "id": "1a931a56-7a3b-4561-b1f2-7e97b0d17ac4",
   "metadata": {},
   "outputs": [
    {
     "name": "stdout",
     "output_type": "stream",
     "text": [
      "reshape [['1.3']\n",
      " ['2']\n",
      " ['3']\n",
      " ['4']\n",
      " ['5']]\n"
     ]
    }
   ],
   "source": [
    "print('reshape',B.reshape((-1,1)))"
   ]
  },
  {
   "cell_type": "code",
   "execution_count": 44,
   "id": "af76ef11-0153-4384-a186-c7ce3cfec681",
   "metadata": {},
   "outputs": [
    {
     "name": "stdout",
     "output_type": "stream",
     "text": [
      "B size 5\n"
     ]
    }
   ],
   "source": [
    "print('B size=',B.size)"
   ]
  },
  {
   "cell_type": "code",
   "execution_count": 45,
   "id": "72717101-3d18-4d03-ab5c-c77f53c9268e",
   "metadata": {},
   "outputs": [
    {
     "name": "stdout",
     "output_type": "stream",
     "text": [
      "reshape [['1.3']\n",
      " ['2']\n",
      " ['3']\n",
      " ['4']\n",
      " ['5']]\n"
     ]
    }
   ],
   "source": [
    "print('reshape',B.reshape((B.size,1)))"
   ]
  },
  {
   "cell_type": "code",
   "execution_count": 49,
   "id": "ead2cc4b-189d-4642-96d2-31bd1f0285d1",
   "metadata": {},
   "outputs": [
    {
     "name": "stdout",
     "output_type": "stream",
     "text": [
      "reshape [['1.3']\n",
      " ['2']\n",
      " ['3']\n",
      " ['4']\n",
      " ['5']]\n"
     ]
    }
   ],
   "source": [
    "print('reshape',B.reshape((5,1)))"
   ]
  },
  {
   "cell_type": "markdown",
   "id": "92d81423-4547-4869-b0a6-0dac7beb6682",
   "metadata": {},
   "source": [
    "**consider we have multiple dimensional array 2d** =\n",
    "A =  [\n",
    "   [1,2,3],\n",
    "   [4,5,6]\n",
    "]"
   ]
  },
  {
   "cell_type": "code",
   "execution_count": 55,
   "id": "7640042f-f2c4-4c7d-b741-25eaaed4e43a",
   "metadata": {},
   "outputs": [
    {
     "name": "stdout",
     "output_type": "stream",
     "text": [
      "shape of B =  (2, 3)\n"
     ]
    }
   ],
   "source": [
    "B = np.array([ [1,2,3], [4,5,6] ])\n",
    "print('shape of B = ',B.shape) "
   ]
  },
  {
   "cell_type": "markdown",
   "id": "837bfa77-5023-4a03-b80c-5b065c8d4768",
   "metadata": {},
   "source": [
    "### what is flatten ?\n",
    "Answer : **Flatten in numpy is used to convert multi-dimensional array to single dimension**"
   ]
  },
  {
   "cell_type": "code",
   "execution_count": 56,
   "id": "4f852d12-1ad3-4d05-be9b-491136b4935d",
   "metadata": {},
   "outputs": [
    {
     "name": "stdout",
     "output_type": "stream",
     "text": [
      "flatten of B =  [1 2 3 4 5 6]\n"
     ]
    }
   ],
   "source": [
    "B = np.array([ [1,2,3], [4,5,6] ])\n",
    "print('flatten of B = ',B.flatten()) "
   ]
  },
  {
   "cell_type": "code",
   "execution_count": 59,
   "id": "d5bad984-1197-42e4-a551-832dc3160476",
   "metadata": {},
   "outputs": [
    {
     "name": "stdout",
     "output_type": "stream",
     "text": [
      "shape of flatten B=  (6,)\n"
     ]
    }
   ],
   "source": [
    "flatten_array  = B.flatten()\n",
    "print('shape of flatten B= ',flatten_array.shape)"
   ]
  },
  {
   "cell_type": "markdown",
   "id": "03091a0a-082b-4af8-9169-1d107f79c04a",
   "metadata": {},
   "source": [
    "#### Horizontal Scaling in Numpy "
   ]
  },
  {
   "cell_type": "markdown",
   "id": "e9fb2a22-6428-4ccf-8c55-6932c3e144f4",
   "metadata": {},
   "source": [
    "##### Horizontal scaling is a concept of combining and splitting the elements \n",
    "- horizontal stacking : hstack()\n",
    "- horizontal splitting : hsplit()\n"
   ]
  },
  {
   "cell_type": "code",
   "execution_count": 62,
   "id": "5316cb3e-82e0-4f1a-9be0-8cadac170be3",
   "metadata": {},
   "outputs": [],
   "source": [
    "C = np.array([\n",
    "    [1,2,3],\n",
    "    [4,5,6]\n",
    "])"
   ]
  },
  {
   "cell_type": "code",
   "execution_count": 2,
   "id": "08597f68-e461-4eed-8819-f67c90d214ae",
   "metadata": {},
   "outputs": [],
   "source": [
    "import numpy as np"
   ]
  },
  {
   "cell_type": "code",
   "execution_count": 3,
   "id": "3f3804a0-2031-4176-94d6-453b2b7f92dd",
   "metadata": {},
   "outputs": [],
   "source": [
    "C = np.array([\n",
    "    [1,2,3],\n",
    "    [4,5,6]\n",
    "])"
   ]
  },
  {
   "cell_type": "code",
   "execution_count": 4,
   "id": "ec172084-9ced-440a-a13f-d40f49e631bd",
   "metadata": {},
   "outputs": [
    {
     "name": "stdout",
     "output_type": "stream",
     "text": [
      "concatenated array [[1 2 3 1 2 3]\n",
      " [4 5 6 4 5 6]]\n"
     ]
    }
   ],
   "source": [
    "print('concatenated array',np.hstack((C,C))) # used for concatenation of column wise array"
   ]
  },
  {
   "cell_type": "code",
   "execution_count": 6,
   "id": "3f468936-0206-4de4-90ad-a762e06757e4",
   "metadata": {},
   "outputs": [
    {
     "name": "stdout",
     "output_type": "stream",
     "text": [
      "concatenated [10 20 30 40 50 60]\n"
     ]
    }
   ],
   "source": [
    "a = np.array([10,20,30])\n",
    "b = np.array([40,50,60])\n",
    "print('concatenated',np.hstack((a,b)))"
   ]
  },
  {
   "cell_type": "code",
   "execution_count": 15,
   "id": "89e63738-3689-40d0-ad16-14dbf30ced9e",
   "metadata": {},
   "outputs": [
    {
     "name": "stdout",
     "output_type": "stream",
     "text": [
      "[array([[1],\n",
      "       [4]]), array([[2],\n",
      "       [5]]), array([[3],\n",
      "       [6]])]\n"
     ]
    }
   ],
   "source": [
    "print(np.hsplit(C,3))"
   ]
  },
  {
   "cell_type": "code",
   "execution_count": 24,
   "id": "f2397179-67ee-4ad9-be1b-86869255856a",
   "metadata": {},
   "outputs": [],
   "source": [
    "split_ratio = C.size/C.ndim # On what of columns the element has to be evenly distributed."
   ]
  },
  {
   "cell_type": "code",
   "execution_count": 25,
   "id": "32f4a5bb-1bda-44b9-b604-8932f90a5bfd",
   "metadata": {},
   "outputs": [
    {
     "name": "stdout",
     "output_type": "stream",
     "text": [
      "[array([[1],\n",
      "       [4]]), array([[2],\n",
      "       [5]]), array([[3],\n",
      "       [6]])]\n"
     ]
    }
   ],
   "source": [
    "print(np.hsplit(C,split_ratio))"
   ]
  },
  {
   "cell_type": "code",
   "execution_count": null,
   "id": "d5163ebf-929a-4f5e-ad1f-038e3a8afbf3",
   "metadata": {},
   "outputs": [],
   "source": []
  }
 ],
 "metadata": {
  "kernelspec": {
   "display_name": "Python 3 (ipykernel)",
   "language": "python",
   "name": "python3"
  },
  "language_info": {
   "codemirror_mode": {
    "name": "ipython",
    "version": 3
   },
   "file_extension": ".py",
   "mimetype": "text/x-python",
   "name": "python",
   "nbconvert_exporter": "python",
   "pygments_lexer": "ipython3",
   "version": "3.12.7"
  }
 },
 "nbformat": 4,
 "nbformat_minor": 5
}
