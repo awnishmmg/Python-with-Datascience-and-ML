{
 "cells": [
  {
   "cell_type": "markdown",
   "id": "b89157ee-7fd1-4fe6-9071-bc968c0e6acf",
   "metadata": {},
   "source": [
    "### working of numpy dataset"
   ]
  },
  {
   "cell_type": "code",
   "execution_count": 1,
   "id": "ef4e4a4d-a4a3-4124-a71f-4c7c017a6797",
   "metadata": {},
   "outputs": [],
   "source": [
    "import numpy as np "
   ]
  },
  {
   "cell_type": "code",
   "execution_count": 2,
   "id": "78a266ac-5c9f-4bee-942b-56f20e4cc5ac",
   "metadata": {},
   "outputs": [
    {
     "data": {
      "text/plain": [
       "array([5, 5, 5, 5, 5])"
      ]
     },
     "execution_count": 2,
     "metadata": {},
     "output_type": "execute_result"
    }
   ],
   "source": [
    "np.full(5,5)"
   ]
  },
  {
   "cell_type": "code",
   "execution_count": 3,
   "id": "a33ed512-e77d-45ae-8264-232fac0eb1d7",
   "metadata": {},
   "outputs": [
    {
     "data": {
      "text/plain": [
       "array([5, 5, 5])"
      ]
     },
     "execution_count": 3,
     "metadata": {},
     "output_type": "execute_result"
    }
   ],
   "source": [
    "np.full(3,5)"
   ]
  },
  {
   "cell_type": "code",
   "execution_count": 4,
   "id": "2b61adff-a0e8-4c39-aa8b-a7b6530defee",
   "metadata": {},
   "outputs": [
    {
     "data": {
      "text/plain": [
       "array([[5, 5, 5],\n",
       "       [5, 5, 5]])"
      ]
     },
     "execution_count": 4,
     "metadata": {},
     "output_type": "execute_result"
    }
   ],
   "source": [
    "np.full((2,3),5)"
   ]
  },
  {
   "cell_type": "markdown",
   "id": "0249dba8-0475-4545-97fa-e008bf14557b",
   "metadata": {},
   "source": [
    "#### random elements of float values B/w Range 0 to 1"
   ]
  },
  {
   "cell_type": "code",
   "execution_count": 8,
   "id": "da89e354-a1e4-471b-bfc2-9575b62364ae",
   "metadata": {},
   "outputs": [
    {
     "data": {
      "text/plain": [
       "array([[0.40322468, 0.14914137, 0.61872191],\n",
       "       [0.79527995, 0.51929125, 0.15345428]])"
      ]
     },
     "execution_count": 8,
     "metadata": {},
     "output_type": "execute_result"
    }
   ],
   "source": [
    "np.random.random((2,3))"
   ]
  },
  {
   "cell_type": "markdown",
   "id": "3622c20a-be34-4936-ba6d-dbb9501004be",
   "metadata": {},
   "source": [
    "#### random elements of int values B/w Range 1 to n"
   ]
  },
  {
   "cell_type": "code",
   "execution_count": 9,
   "id": "409ebfea-5a3d-4f4b-8e46-180cbd28d0a3",
   "metadata": {},
   "outputs": [
    {
     "data": {
      "text/plain": [
       "array([0, 2], dtype=int32)"
      ]
     },
     "execution_count": 9,
     "metadata": {},
     "output_type": "execute_result"
    }
   ],
   "source": [
    "np.random.randint((2,3))"
   ]
  },
  {
   "cell_type": "code",
   "execution_count": 10,
   "id": "4b7d997d-5e83-46bf-b8e9-2640cdb9e7ee",
   "metadata": {},
   "outputs": [
    {
     "data": {
      "text/plain": [
       "array([0, 5], dtype=int32)"
      ]
     },
     "execution_count": 10,
     "metadata": {},
     "output_type": "execute_result"
    }
   ],
   "source": [
    "np.random.randint((1,10))"
   ]
  },
  {
   "cell_type": "markdown",
   "id": "da692df5-c5c1-4a10-a89d-d2d5e41ba3f4",
   "metadata": {},
   "source": [
    "### Random number with single dimension"
   ]
  },
  {
   "cell_type": "code",
   "execution_count": 14,
   "id": "c255c49d-ff70-4b6c-b18e-c8eb18ad9cbf",
   "metadata": {},
   "outputs": [
    {
     "data": {
      "text/plain": [
       "array([9, 8, 8, 7, 5], dtype=int32)"
      ]
     },
     "execution_count": 14,
     "metadata": {},
     "output_type": "execute_result"
    }
   ],
   "source": [
    "np.random.randint(1,10,(5))"
   ]
  },
  {
   "cell_type": "markdown",
   "id": "02ed477a-9b91-4521-a21c-20d8e56c6627",
   "metadata": {},
   "source": [
    "### Random int with single dimension"
   ]
  },
  {
   "cell_type": "code",
   "execution_count": 16,
   "id": "543b12fd-2c96-4cc9-bf22-d0c807a4bb66",
   "metadata": {},
   "outputs": [
    {
     "data": {
      "text/plain": [
       "array([4, 7, 7, 9, 4], dtype=int32)"
      ]
     },
     "execution_count": 16,
     "metadata": {},
     "output_type": "execute_result"
    }
   ],
   "source": [
    "np.random.randint(1,10,5)"
   ]
  },
  {
   "cell_type": "markdown",
   "id": "b158730f-83f2-4a21-bea6-07892e4b61f2",
   "metadata": {},
   "source": [
    "### Random int with Two dimension"
   ]
  },
  {
   "cell_type": "code",
   "execution_count": 15,
   "id": "e8c8f43f-c349-424f-99d9-5863b428427d",
   "metadata": {},
   "outputs": [
    {
     "data": {
      "text/plain": [
       "array([[7, 5, 4, 3, 2],\n",
       "       [9, 2, 2, 3, 7]], dtype=int32)"
      ]
     },
     "execution_count": 15,
     "metadata": {},
     "output_type": "execute_result"
    }
   ],
   "source": [
    "np.random.randint(1,10,(2,5))"
   ]
  },
  {
   "cell_type": "markdown",
   "id": "d191e2a4-48fb-4ced-a955-3f5ab7f49f9a",
   "metadata": {},
   "source": [
    "### Random int with Three dimension"
   ]
  },
  {
   "cell_type": "code",
   "execution_count": 17,
   "id": "b77dd118-9e40-4f3b-827a-6bb3dbb0d027",
   "metadata": {},
   "outputs": [
    {
     "data": {
      "text/plain": [
       "array([[[4, 6, 7],\n",
       "        [9, 3, 5],\n",
       "        [8, 1, 2],\n",
       "        [9, 1, 3],\n",
       "        [9, 9, 5]],\n",
       "\n",
       "       [[6, 3, 2],\n",
       "        [9, 5, 5],\n",
       "        [3, 1, 5],\n",
       "        [9, 9, 7],\n",
       "        [9, 4, 4]]], dtype=int32)"
      ]
     },
     "execution_count": 17,
     "metadata": {},
     "output_type": "execute_result"
    }
   ],
   "source": [
    "np.random.randint(1,10,(2,5,3))"
   ]
  },
  {
   "cell_type": "markdown",
   "id": "9e050191-66a9-4d8e-a5f6-0bd82b4f569b",
   "metadata": {},
   "source": [
    "### Like there range in python similary in numpy we have arange array"
   ]
  },
  {
   "cell_type": "code",
   "execution_count": 18,
   "id": "5bb118c1-5fcd-4e7b-8439-57940024c66b",
   "metadata": {},
   "outputs": [],
   "source": [
    "B = np.arange(1,10)"
   ]
  },
  {
   "cell_type": "code",
   "execution_count": 19,
   "id": "4e77811f-bd26-4dda-86a4-a5bfe52e415a",
   "metadata": {},
   "outputs": [
    {
     "name": "stdout",
     "output_type": "stream",
     "text": [
      "[1 2 3 4 5 6 7 8 9]\n"
     ]
    }
   ],
   "source": [
    "print(B)"
   ]
  },
  {
   "cell_type": "code",
   "execution_count": 20,
   "id": "c916e736-16c3-4e96-aece-b66b4905009d",
   "metadata": {},
   "outputs": [],
   "source": [
    "B = np.arange(1,10,2)"
   ]
  },
  {
   "cell_type": "code",
   "execution_count": 21,
   "id": "54eb1c0d-46fb-4fa1-be6c-2838a07c599b",
   "metadata": {},
   "outputs": [
    {
     "name": "stdout",
     "output_type": "stream",
     "text": [
      "[1 3 5 7 9]\n"
     ]
    }
   ],
   "source": [
    "print(B)"
   ]
  },
  {
   "cell_type": "code",
   "execution_count": 25,
   "id": "a819fa4e-3e92-4843-9333-f7d543d82372",
   "metadata": {},
   "outputs": [],
   "source": [
    "B = np.arange(1,10,2).reshape((5,1))"
   ]
  },
  {
   "cell_type": "code",
   "execution_count": 26,
   "id": "f056651a-4f47-4e21-a1e6-c27365bddfbb",
   "metadata": {},
   "outputs": [
    {
     "name": "stdout",
     "output_type": "stream",
     "text": [
      "[[1]\n",
      " [3]\n",
      " [5]\n",
      " [7]\n",
      " [9]]\n"
     ]
    }
   ],
   "source": [
    "print(B)"
   ]
  },
  {
   "cell_type": "code",
   "execution_count": 27,
   "id": "3a7feb8a-0d8d-4cec-a2cf-c4d63dfb1b78",
   "metadata": {},
   "outputs": [
    {
     "name": "stdout",
     "output_type": "stream",
     "text": [
      "[[ 0.  1.  2.  3.]\n",
      " [ 4.  5.  6.  7.]\n",
      " [ 8.  9. 10. 11.]\n",
      " [12. 13. 14. 15.]]\n"
     ]
    }
   ],
   "source": [
    "x = np.arange(16.0).reshape(4, 4)\n",
    "print(x)"
   ]
  },
  {
   "cell_type": "code",
   "execution_count": 28,
   "id": "07e26861-9e2e-4ae4-b7f8-0ca505daffc1",
   "metadata": {},
   "outputs": [
    {
     "name": "stdout",
     "output_type": "stream",
     "text": [
      "[[ 0  1  2  3]\n",
      " [ 4  5  6  7]\n",
      " [ 8  9 10 11]\n",
      " [12 13 14 15]]\n"
     ]
    }
   ],
   "source": [
    "x = np.arange(16).reshape(4, 4)\n",
    "print(x)"
   ]
  },
  {
   "cell_type": "markdown",
   "id": "49ba2243-3785-42f1-9089-0a1e452667cf",
   "metadata": {},
   "source": [
    "### Important Points of reshape is  (Trick shape (rxc) = no of elements) then only it can transformed"
   ]
  },
  {
   "cell_type": "code",
   "execution_count": 29,
   "id": "b90def06-b4d8-4979-8a4b-b350f8b50331",
   "metadata": {},
   "outputs": [],
   "source": [
    "a = np.arange(6)"
   ]
  },
  {
   "cell_type": "code",
   "execution_count": 30,
   "id": "2ce31362-15b7-4fd0-93b2-87505388e725",
   "metadata": {},
   "outputs": [
    {
     "name": "stdout",
     "output_type": "stream",
     "text": [
      "[0 1 2 3 4 5]\n"
     ]
    }
   ],
   "source": [
    "print(a)"
   ]
  },
  {
   "cell_type": "code",
   "execution_count": 31,
   "id": "77d15b8f-804e-4128-8313-aa2722c61f62",
   "metadata": {},
   "outputs": [
    {
     "name": "stdout",
     "output_type": "stream",
     "text": [
      "size of a= 6\n"
     ]
    }
   ],
   "source": [
    "print('size of a=',a.size)"
   ]
  },
  {
   "cell_type": "code",
   "execution_count": 32,
   "id": "1fd04625-c801-473e-af50-65e7ef94a9ae",
   "metadata": {},
   "outputs": [
    {
     "name": "stdout",
     "output_type": "stream",
     "text": [
      "[[0 1 2 3 4 5]]\n",
      "[[0]\n",
      " [1]\n",
      " [2]\n",
      " [3]\n",
      " [4]\n",
      " [5]]\n",
      "[[0 1 2]\n",
      " [3 4 5]]\n",
      "[[0 1]\n",
      " [2 3]\n",
      " [4 5]]\n"
     ]
    }
   ],
   "source": [
    "print(a.reshape(1,6))\n",
    "print(a.reshape(6,1))\n",
    "print(a.reshape(2,3))\n",
    "print(a.reshape(3,2))"
   ]
  },
  {
   "cell_type": "code",
   "execution_count": 36,
   "id": "12caf063-0775-4fd6-a510-28e5d75f8363",
   "metadata": {},
   "outputs": [
    {
     "name": "stdout",
     "output_type": "stream",
     "text": [
      "[0 1 2 3 4 5]\n"
     ]
    }
   ],
   "source": [
    "print(a)"
   ]
  },
  {
   "cell_type": "code",
   "execution_count": 34,
   "id": "792912bc-6f41-475e-9dc6-82a02fdd1391",
   "metadata": {},
   "outputs": [
    {
     "name": "stdout",
     "output_type": "stream",
     "text": [
      "[[0 1 2]\n",
      " [3 4 5]]\n"
     ]
    }
   ],
   "source": [
    "print(a.reshape(2,3,order='C')) #C style : row wise preference"
   ]
  },
  {
   "cell_type": "code",
   "execution_count": 35,
   "id": "df742bf4-ad78-4ddc-b8c6-f716f825bf9d",
   "metadata": {},
   "outputs": [
    {
     "name": "stdout",
     "output_type": "stream",
     "text": [
      "[[0 2 4]\n",
      " [1 3 5]]\n"
     ]
    }
   ],
   "source": [
    "print(a.reshape(2,3,order='F'))  #Fortran style : column wise preference"
   ]
  },
  {
   "cell_type": "markdown",
   "id": "1a1077ce-fd5a-436f-8c04-7c8212c22db5",
   "metadata": {},
   "source": [
    "####  Dimension Transformations (reshaping) 1D -> 2D -> 3D"
   ]
  },
  {
   "cell_type": "code",
   "execution_count": 37,
   "id": "5a6790a6-cc57-4086-a9b4-c275868e623c",
   "metadata": {},
   "outputs": [],
   "source": [
    "n = np.arange(8) #8 elements"
   ]
  },
  {
   "cell_type": "code",
   "execution_count": 38,
   "id": "113010b1-ff43-46c1-a88f-6268609bf207",
   "metadata": {},
   "outputs": [
    {
     "name": "stdout",
     "output_type": "stream",
     "text": [
      "[0 1 2 3 4 5 6 7]\n"
     ]
    }
   ],
   "source": [
    "print(n)"
   ]
  },
  {
   "cell_type": "markdown",
   "id": "7469f880-4aa6-473e-bebb-6eec30526f11",
   "metadata": {},
   "source": [
    "### Finding the Possible factors for reshaping"
   ]
  },
  {
   "cell_type": "code",
   "execution_count": 47,
   "id": "a6bacea8-7b9f-4371-a02a-b00af917caf7",
   "metadata": {},
   "outputs": [
    {
     "data": {
      "text/plain": [
       "[(8, 1), (4, 2), (2, 4), (1, 8)]"
      ]
     },
     "execution_count": 47,
     "metadata": {},
     "output_type": "execute_result"
    }
   ],
   "source": [
    "def getFactors(l):\n",
    "    x = []\n",
    "    y = []\n",
    "    size =  l.size\n",
    "    for i in range(1,l.size+1):\n",
    "        if size%i == 0:\n",
    "            q = size//i\n",
    "            x.append(q)\n",
    "            y.append(i)\n",
    "    return list(zip(x,y))\n",
    "    \n",
    "        \n",
    "getFactors(n)     "
   ]
  },
  {
   "cell_type": "markdown",
   "id": "97d08abe-fce4-4bdb-ba83-92b183f6b03b",
   "metadata": {},
   "source": [
    "### How to dynamically calcualate the possible shape"
   ]
  },
  {
   "cell_type": "code",
   "execution_count": 48,
   "id": "601c54d1-a2f9-4758-8962-e89074ec6342",
   "metadata": {},
   "outputs": [
    {
     "data": {
      "text/plain": [
       "[(8, 1), (4, 2), (2, 4), (1, 8)]"
      ]
     },
     "execution_count": 48,
     "metadata": {},
     "output_type": "execute_result"
    }
   ],
   "source": [
    "def reshapes_values(l):\n",
    "    x = []\n",
    "    y = []\n",
    "    size =  l.size\n",
    "    for i in range(1,l.size+1):\n",
    "        if size%i == 0:\n",
    "            q = size//i\n",
    "            x.append(q)\n",
    "            y.append(i)\n",
    "    return list(zip(x,y))\n",
    "    \n",
    "        \n",
    "reshapes_values(n)     "
   ]
  },
  {
   "cell_type": "markdown",
   "id": "7625a8cc-41fd-44a5-96ae-7f0e20a4ca19",
   "metadata": {},
   "source": [
    "#### Once we are done with possible factors we try to reshape the array"
   ]
  },
  {
   "cell_type": "code",
   "execution_count": 49,
   "id": "37ff3aef-b7d1-4e04-9926-baeff602b8c3",
   "metadata": {},
   "outputs": [
    {
     "name": "stdout",
     "output_type": "stream",
     "text": [
      "[[0 1 2 3 4 5 6 7]]\n"
     ]
    }
   ],
   "source": [
    "print(n.reshape(1,8))"
   ]
  },
  {
   "cell_type": "code",
   "execution_count": 50,
   "id": "f75fdf8d-9baa-425f-9b00-98474283bd7b",
   "metadata": {},
   "outputs": [
    {
     "name": "stdout",
     "output_type": "stream",
     "text": [
      "[[0 1 2 3]\n",
      " [4 5 6 7]]\n"
     ]
    }
   ],
   "source": [
    "print(n.reshape(2,4))"
   ]
  },
  {
   "cell_type": "code",
   "execution_count": 51,
   "id": "7993289b-73be-4859-a487-9d07b3870baf",
   "metadata": {},
   "outputs": [
    {
     "name": "stdout",
     "output_type": "stream",
     "text": [
      "[[0 1]\n",
      " [2 3]\n",
      " [4 5]\n",
      " [6 7]]\n"
     ]
    }
   ],
   "source": [
    "print(n.reshape(4,2))"
   ]
  },
  {
   "cell_type": "markdown",
   "id": "fdc9a312-93c8-4bc1-bf7f-a1c410045e8f",
   "metadata": {},
   "source": [
    "### using total size or size"
   ]
  },
  {
   "cell_type": "code",
   "execution_count": 57,
   "id": "6861e49b-29d2-45aa-aa30-5363453d0fc2",
   "metadata": {},
   "outputs": [
    {
     "name": "stdout",
     "output_type": "stream",
     "text": [
      "[[0]\n",
      " [1]\n",
      " [2]\n",
      " [3]\n",
      " [4]\n",
      " [5]\n",
      " [6]\n",
      " [7]]\n"
     ]
    }
   ],
   "source": [
    "print(n.reshape(8,1))"
   ]
  },
  {
   "cell_type": "markdown",
   "id": "0b3dd8bd-ab25-45a5-ba0f-bd6861dd6e02",
   "metadata": {},
   "source": [
    "### Auto-reshape (-1) automatically takes nsize"
   ]
  },
  {
   "cell_type": "code",
   "execution_count": 53,
   "id": "3b9dc117-891d-4dec-9600-07e495f21425",
   "metadata": {},
   "outputs": [
    {
     "name": "stdout",
     "output_type": "stream",
     "text": [
      "[[0]\n",
      " [1]\n",
      " [2]\n",
      " [3]\n",
      " [4]\n",
      " [5]\n",
      " [6]\n",
      " [7]]\n"
     ]
    }
   ],
   "source": [
    "print(n.reshape(-1,1))"
   ]
  },
  {
   "cell_type": "markdown",
   "id": "79f14a26-dfdf-46cf-9671-6b365930bb88",
   "metadata": {},
   "source": [
    "### case 1- Converting to 3d = multiplication = size of elements"
   ]
  },
  {
   "cell_type": "code",
   "execution_count": 54,
   "id": "4cac1372-f57b-440b-b1ee-3b171f39be2e",
   "metadata": {},
   "outputs": [
    {
     "name": "stdout",
     "output_type": "stream",
     "text": [
      "[[[0 1]\n",
      "  [2 3]]\n",
      "\n",
      " [[4 5]\n",
      "  [6 7]]]\n"
     ]
    }
   ],
   "source": [
    "print(n.reshape(2,2,2))"
   ]
  },
  {
   "cell_type": "markdown",
   "id": "a5f74e45-7388-4bc0-959c-0518619e7d60",
   "metadata": {},
   "source": [
    "### case 2- Converting to 3d = multiplication = size of elements"
   ]
  },
  {
   "cell_type": "code",
   "execution_count": 55,
   "id": "c606cfae-33de-4f9f-858c-8e50b99e5996",
   "metadata": {},
   "outputs": [
    {
     "name": "stdout",
     "output_type": "stream",
     "text": [
      "[[[0 1]]\n",
      "\n",
      " [[2 3]]\n",
      "\n",
      " [[4 5]]\n",
      "\n",
      " [[6 7]]]\n"
     ]
    }
   ],
   "source": [
    "print(n.reshape(4,1,2))"
   ]
  },
  {
   "cell_type": "code",
   "execution_count": null,
   "id": "a2ac2de0-8379-4d01-a9d1-60a2e30b3ec7",
   "metadata": {},
   "outputs": [],
   "source": []
  }
 ],
 "metadata": {
  "kernelspec": {
   "display_name": "Python 3 (ipykernel)",
   "language": "python",
   "name": "python3"
  },
  "language_info": {
   "codemirror_mode": {
    "name": "ipython",
    "version": 3
   },
   "file_extension": ".py",
   "mimetype": "text/x-python",
   "name": "python",
   "nbconvert_exporter": "python",
   "pygments_lexer": "ipython3",
   "version": "3.12.7"
  }
 },
 "nbformat": 4,
 "nbformat_minor": 5
}
