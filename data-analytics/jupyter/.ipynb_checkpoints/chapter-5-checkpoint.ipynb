{
 "cells": [
  {
   "cell_type": "markdown",
   "id": "a8904b0d-9c70-42d2-bc30-62db2ed15e71",
   "metadata": {},
   "source": [
    "### using numpy for Matrix and determinants  : Linear Algebra ➡️ np.linalg()"
   ]
  },
  {
   "cell_type": "code",
   "execution_count": 1,
   "id": "2ff40d38-56c2-44d2-aabe-755ada2f4475",
   "metadata": {},
   "outputs": [],
   "source": [
    "import numpy as np"
   ]
  },
  {
   "cell_type": "code",
   "execution_count": 2,
   "id": "67921238-4167-427f-bf5b-397888580be9",
   "metadata": {},
   "outputs": [],
   "source": [
    "matA = np.array([1,2,3])\n",
    "matB = np.array([4,5,6])"
   ]
  },
  {
   "cell_type": "markdown",
   "id": "3174a681-e6a8-48b6-8a78-1bbdd7845190",
   "metadata": {},
   "source": [
    "### addition and subtraction "
   ]
  },
  {
   "cell_type": "code",
   "execution_count": 8,
   "id": "a27c23fc-48ec-4383-99c1-56a1f71f1ca2",
   "metadata": {},
   "outputs": [
    {
     "name": "stdout",
     "output_type": "stream",
     "text": [
      "Addition : [5 7 9]\n"
     ]
    }
   ],
   "source": [
    "print('Addition :',np.add(matA,matB))"
   ]
  },
  {
   "cell_type": "code",
   "execution_count": null,
   "id": "66dbef7e-e46c-4d51-a953-bd28904db63c",
   "metadata": {},
   "outputs": [],
   "source": []
  },
  {
   "cell_type": "code",
   "execution_count": null,
   "id": "35184455-abb3-4584-9fad-df98dcd5d0d2",
   "metadata": {},
   "outputs": [],
   "source": []
  }
 ],
 "metadata": {
  "kernelspec": {
   "display_name": "Python 3 (ipykernel)",
   "language": "python",
   "name": "python3"
  },
  "language_info": {
   "codemirror_mode": {
    "name": "ipython",
    "version": 3
   },
   "file_extension": ".py",
   "mimetype": "text/x-python",
   "name": "python",
   "nbconvert_exporter": "python",
   "pygments_lexer": "ipython3",
   "version": "3.12.7"
  }
 },
 "nbformat": 4,
 "nbformat_minor": 5
}
