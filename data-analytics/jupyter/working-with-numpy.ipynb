{
 "cells": [
  {
   "cell_type": "markdown",
   "id": "41470054-954b-4822-be06-efb0e77e86e3",
   "metadata": {},
   "source": [
    "#### what is numpy "
   ]
  },
  {
   "cell_type": "markdown",
   "id": "0f976170-13e3-4299-95a3-a1f9de8cfbef",
   "metadata": {},
   "source": [
    "**numpy stands for numerical python, it is used for several mathematical calculations. involving different matrix operations.\n",
    "the task performed using list will be easily resolved using numpy**"
   ]
  },
  {
   "cell_type": "raw",
   "id": "5eb2ce8a-71e3-469b-9cd5-4d843df8ea83",
   "metadata": {},
   "source": [
    "*numpy is made upon c language and fortan due to which is very fast.*"
   ]
  },
  {
   "cell_type": "markdown",
   "id": "de7aa113-9627-44d4-8218-c4840de96835",
   "metadata": {},
   "source": [
    "#### List Vs Numpy"
   ]
  },
  {
   "cell_type": "code",
   "execution_count": 3,
   "id": "03dbfa18-9fa7-47d6-8725-2c8f5fd37f76",
   "metadata": {},
   "outputs": [],
   "source": [
    "lst = [i for i in range(100000)]"
   ]
  },
  {
   "cell_type": "code",
   "execution_count": 5,
   "id": "db045665-768a-4596-8d95-e47591f008d5",
   "metadata": {},
   "outputs": [],
   "source": [
    "from time import process_time"
   ]
  },
  {
   "cell_type": "code",
   "execution_count": 6,
   "id": "c98c2aff-85cb-4f65-ac22-9e5095d56ac1",
   "metadata": {},
   "outputs": [
    {
     "name": "stdout",
     "output_type": "stream",
     "text": [
      "Total Time taken = 0.03 seconds\n"
     ]
    }
   ],
   "source": [
    "start_time = process_time()\n",
    "new_lst = [x**2 for x in lst]\n",
    "end_time = process_time()\n",
    "print(f'Total Time taken = {round(end_time-start_time,2)} seconds')"
   ]
  },
  {
   "cell_type": "code",
   "execution_count": 7,
   "id": "c69aa85d-18cb-4b30-9464-5edb46f6488e",
   "metadata": {},
   "outputs": [],
   "source": [
    "import numpy as np"
   ]
  },
  {
   "cell_type": "code",
   "execution_count": 8,
   "id": "c832cba6-88ad-41bc-a4b7-e518852087ff",
   "metadata": {},
   "outputs": [],
   "source": [
    "np_array =  np.array([i for i in range(100000)])"
   ]
  },
  {
   "cell_type": "code",
   "execution_count": 9,
   "id": "e5da7862-ed7a-4d74-ae0a-b1ebfe1c3bc4",
   "metadata": {},
   "outputs": [
    {
     "name": "stdout",
     "output_type": "stream",
     "text": [
      "Total Time taken = 0.0 seconds\n"
     ]
    }
   ],
   "source": [
    "start_time = process_time()\n",
    "new_np_array = np_array**2\n",
    "end_time = process_time()\n",
    "print(f'Total Time taken = {round(end_time-start_time,2)} seconds')"
   ]
  },
  {
   "cell_type": "code",
   "execution_count": 10,
   "id": "ddf6d4d0-c9a7-46f1-aea9-13e2b0a3e6bc",
   "metadata": {},
   "outputs": [
    {
     "name": "stdout",
     "output_type": "stream",
     "text": [
      "[         0          1          4 ... 9999400009 9999600004 9999800001]\n"
     ]
    }
   ],
   "source": [
    "print(new_np_array)"
   ]
  },
  {
   "cell_type": "code",
   "execution_count": 11,
   "id": "02764f36-f2ae-4d19-b6c2-71fd3a488d15",
   "metadata": {},
   "outputs": [
    {
     "name": "stdout",
     "output_type": "stream",
     "text": [
      "Basic Array [1 2 3]\n"
     ]
    }
   ],
   "source": [
    "# creating a basic numpy array \n",
    "basic_array =  np.array([1,2,3])\n",
    "print('Basic Array',basic_array)"
   ]
  },
  {
   "cell_type": "code",
   "execution_count": 12,
   "id": "5e0cab9f-19f4-4652-8bf0-75d83f796a5f",
   "metadata": {},
   "outputs": [
    {
     "name": "stdout",
     "output_type": "stream",
     "text": [
      "basic list [1, 2, 3]\n"
     ]
    }
   ],
   "source": [
    "l = [1,2,3]\n",
    "print('basic list',l)"
   ]
  },
  {
   "cell_type": "raw",
   "id": "f809de39-1d2b-4c0a-8ab2-361d072387b1",
   "metadata": {},
   "source": [
    "How to find the type of numpy \n",
    "1. type of numpy \n",
    "2. type of element in numpy :dtype "
   ]
  },
  {
   "cell_type": "code",
   "execution_count": 13,
   "id": "527ca065-409d-4f78-b2eb-ed77d4cd1658",
   "metadata": {},
   "outputs": [
    {
     "name": "stdout",
     "output_type": "stream",
     "text": [
      "basic list [1, 2, 3]\n",
      "Type: <class 'numpy.ndarray'>\n",
      "Data Type: int64\n"
     ]
    }
   ],
   "source": [
    "l = [1,2,3]\n",
    "print('basic list',l)\n",
    "print('Type:',type(basic_array))\n",
    "print('Data Type:',basic_array.dtype)"
   ]
  },
  {
   "cell_type": "raw",
   "id": "048b644a-715b-4696-9f0e-288b1220b330",
   "metadata": {},
   "source": [
    "shape property : dimension or order or shape"
   ]
  },
  {
   "cell_type": "code",
   "execution_count": 16,
   "id": "119cf270-ab9a-4ecd-b000-42680d2777cf",
   "metadata": {},
   "outputs": [],
   "source": [
    "A = np.array([\n",
    "    [1,2,3],\n",
    "    [2,3,4],\n",
    "    [5,6,7]\n",
    "])"
   ]
  },
  {
   "cell_type": "code",
   "execution_count": 17,
   "id": "286f454b-bc32-4a1c-92c4-8b8f192746c9",
   "metadata": {
    "scrolled": true
   },
   "outputs": [
    {
     "name": "stdout",
     "output_type": "stream",
     "text": [
      "[[1 2 3]\n",
      " [2 3 4]\n",
      " [5 6 7]]\n"
     ]
    }
   ],
   "source": [
    "print(A)"
   ]
  },
  {
   "cell_type": "code",
   "execution_count": 18,
   "id": "88bbee81-298e-4e49-a14c-7d68aec57680",
   "metadata": {
    "scrolled": true
   },
   "outputs": [
    {
     "name": "stdout",
     "output_type": "stream",
     "text": [
      "Order or shape (3, 3)\n"
     ]
    }
   ],
   "source": [
    "print('Order or shape',A.shape)"
   ]
  },
  {
   "cell_type": "code",
   "execution_count": 19,
   "id": "28cd9cc2-1a39-49a7-93e1-eb599efef88e",
   "metadata": {},
   "outputs": [
    {
     "name": "stdout",
     "output_type": "stream",
     "text": [
      " value of B [1 2 3] and shape of B = (3,)\n"
     ]
    }
   ],
   "source": [
    "B = np.array([1,2,3])\n",
    "print(f' value of B {B} and shape of B = {B.shape}')"
   ]
  },
  {
   "cell_type": "raw",
   "id": "90b0e024-6e53-439c-8bbf-e778fd2be379",
   "metadata": {},
   "source": [
    "1. creating array of different types \n",
    "2. Zeroth Matrix/array\n",
    "3. Ones Matrix/array\n",
    "4. linspace Matrix/array\n",
    "5. indentity_matrix (I) \n",
    "6. ranged_array/matrix"
   ]
  },
  {
   "cell_type": "code",
   "execution_count": 21,
   "id": "fa9bc579-8d02-404b-8d1c-144f61ea5d8f",
   "metadata": {},
   "outputs": [
    {
     "name": "stdout",
     "output_type": "stream",
     "text": [
      "[[0. 0. 0.]\n",
      " [0. 0. 0.]]\n"
     ]
    }
   ],
   "source": [
    "zeros_array = np.zeros((2,3))\n",
    "print(zeros_array)"
   ]
  },
  {
   "cell_type": "code",
   "execution_count": 23,
   "id": "818e90be-f92d-4ef3-863c-f0a183e5c342",
   "metadata": {},
   "outputs": [
    {
     "name": "stdout",
     "output_type": "stream",
     "text": [
      "[[1. 1. 1.]\n",
      " [1. 1. 1.]]\n"
     ]
    }
   ],
   "source": [
    "ones_array = np.ones((2,3))\n",
    "print(ones_array)"
   ]
  },
  {
   "cell_type": "raw",
   "id": "44f8d981-65bd-4a6c-aa49-8baa6a3d17b9",
   "metadata": {},
   "source": [
    "square matrix whose shape of i,j is equal (1x1,2x2,3x3,4x4)"
   ]
  },
  {
   "cell_type": "code",
   "execution_count": 25,
   "id": "c65fa00d-bcfe-4cd4-b9de-461ef04cfef5",
   "metadata": {},
   "outputs": [],
   "source": [
    "ranged_array = np.arange(0,10,2)"
   ]
  },
  {
   "cell_type": "code",
   "execution_count": 26,
   "id": "cd39261d-fa84-4f2a-bc06-1e23f1b56691",
   "metadata": {},
   "outputs": [
    {
     "name": "stdout",
     "output_type": "stream",
     "text": [
      "[0 2 4 6 8]\n"
     ]
    }
   ],
   "source": [
    "print(ranged_array)"
   ]
  },
  {
   "cell_type": "code",
   "execution_count": 27,
   "id": "c6ac8e74-186c-4ba5-a3ba-86451adff682",
   "metadata": {},
   "outputs": [
    {
     "name": "stdout",
     "output_type": "stream",
     "text": [
      "[10. 15. 20. 25. 30.]\n"
     ]
    }
   ],
   "source": [
    "#Finding the equidistant points between 2 Range\n",
    "linspace_array = np.linspace(10,30,5)\n",
    "print(linspace_array)"
   ]
  },
  {
   "cell_type": "code",
   "execution_count": 28,
   "id": "8c7e0fc0-9334-4c9a-842b-d2bfa50f0a59",
   "metadata": {},
   "outputs": [
    {
     "name": "stdout",
     "output_type": "stream",
     "text": [
      "[10. 14. 18. 22. 26. 30.]\n"
     ]
    }
   ],
   "source": [
    "#Finding the equidistant points between 2 Range\n",
    "linspace_array = np.linspace(10,30,6)\n",
    "print(linspace_array)"
   ]
  },
  {
   "cell_type": "markdown",
   "id": "b0a0ec69-36f0-4cd7-abfb-662642daa9f5",
   "metadata": {},
   "source": [
    "### what is Identity Matrix "
   ]
  },
  {
   "cell_type": "raw",
   "id": "6bc4cfda-d04d-4213-aa1c-bbc6a32c73e7",
   "metadata": {},
   "source": [
    "A Indentity Matrix is the Matrix whose, principal diagonal is 1 and other values in Matrix is 0 \n",
    "it is denoted by [I] = eye it is square matrix"
   ]
  },
  {
   "cell_type": "code",
   "execution_count": 31,
   "id": "96ca69b4-09cb-4f1e-97d1-c0d47d90d8d4",
   "metadata": {},
   "outputs": [
    {
     "name": "stdout",
     "output_type": "stream",
     "text": [
      "[[1. 0. 0.]\n",
      " [0. 1. 0.]\n",
      " [0. 0. 1.]]\n"
     ]
    }
   ],
   "source": [
    "I = np.eye(3)\n",
    "print(I)"
   ]
  },
  {
   "cell_type": "markdown",
   "id": "f9f74102-c416-4b81-8aac-b6d9f9a1bffc",
   "metadata": {},
   "source": [
    "#### Array Attributes and Properties."
   ]
  },
  {
   "cell_type": "code",
   "execution_count": 33,
   "id": "58e98020-58c0-4f37-a4fa-53928ab1b4d6",
   "metadata": {},
   "outputs": [],
   "source": [
    "array =  np.array([[1,2,3],[4,5,6]])"
   ]
  },
  {
   "cell_type": "code",
   "execution_count": 34,
   "id": "3ea45352-246c-4ade-b862-f0c439efdd71",
   "metadata": {},
   "outputs": [
    {
     "name": "stdout",
     "output_type": "stream",
     "text": [
      "shape (2, 3)\n",
      "Number of dimension 2\n",
      "Total Element 6\n",
      "item size 8\n",
      "Total Bytes: 48\n",
      "Tranposed \n",
      " [[1 4]\n",
      " [2 5]\n",
      " [3 6]]\n"
     ]
    }
   ],
   "source": [
    "print('shape',array.shape)\n",
    "print('Number of dimension',array.ndim)\n",
    "print('Total Element',array.size)\n",
    "print('item size',array.itemsize)\n",
    "print('Total Bytes:',array.nbytes)\n",
    "print('Tranposed \\n',array.T)"
   ]
  },
  {
   "cell_type": "code",
   "execution_count": null,
   "id": "abf0477f-b786-4c9d-9129-1a1e7d107f77",
   "metadata": {},
   "outputs": [],
   "source": []
  }
 ],
 "metadata": {
  "kernelspec": {
   "display_name": "Python 3 (ipykernel)",
   "language": "python",
   "name": "python3"
  },
  "language_info": {
   "codemirror_mode": {
    "name": "ipython",
    "version": 3
   },
   "file_extension": ".py",
   "mimetype": "text/x-python",
   "name": "python",
   "nbconvert_exporter": "python",
   "pygments_lexer": "ipython3",
   "version": "3.12.7"
  }
 },
 "nbformat": 4,
 "nbformat_minor": 5
}
