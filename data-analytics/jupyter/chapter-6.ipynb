{
 "cells": [
  {
   "cell_type": "markdown",
   "id": "00499556-9deb-4cad-ad5c-9360df158fd4",
   "metadata": {},
   "source": [
    "#### Application of Numpy"
   ]
  },
  {
   "cell_type": "raw",
   "id": "f41d0a7f-11b7-4b24-ac5e-12147873820d",
   "metadata": {},
   "source": [
    "Even though numpy has lot of implication in mathematics,computer science and computational physics, we can it different ways\n",
    "one of application for numpy is solving homegenous equation or linear equations\n"
   ]
  },
  {
   "cell_type": "markdown",
   "id": "ef7ece52-370b-4d00-a80a-0e70206282b7",
   "metadata": {},
   "source": [
    "#### Solving Equations "
   ]
  },
  {
   "cell_type": "markdown",
   "id": "e5917823-ba55-4e3c-a241-708b96727e83",
   "metadata": {},
   "source": [
    "**consider a equation**\n",
    "f(x) =  A.x = B\n",
    "1. where A is 2x2 Matrix (coefficients)\n",
    "2. x is vector matrix with sample vector x1 and x2 \n",
    "3. B is 2x2 Matrix that represents of Resulant Vectors"
   ]
  },
  {
   "cell_type": "code",
   "execution_count": 4,
   "id": "cdd162e8-cb30-409d-bffc-3e267ce7b283",
   "metadata": {},
   "outputs": [],
   "source": [
    "import numpy as np"
   ]
  },
  {
   "cell_type": "code",
   "execution_count": 5,
   "id": "a0c42981-bf14-4301-a823-cc79b1b412b7",
   "metadata": {},
   "outputs": [],
   "source": [
    "\n",
    "A = np.array([\n",
    "    [3,1],\n",
    "    [1,2]\n",
    "])"
   ]
  },
  {
   "cell_type": "code",
   "execution_count": 6,
   "id": "3ed11396-2ef7-4146-96bc-1d3d5ecc8b7b",
   "metadata": {},
   "outputs": [
    {
     "name": "stdout",
     "output_type": "stream",
     "text": [
      "[[3 1]\n",
      " [1 2]]\n"
     ]
    }
   ],
   "source": [
    "print(A)"
   ]
  },
  {
   "cell_type": "code",
   "execution_count": 13,
   "id": "fcb9a851-794c-410d-8dc3-9dc7eaa6eac1",
   "metadata": {},
   "outputs": [],
   "source": [
    "B = np.array([9,8])"
   ]
  },
  {
   "cell_type": "code",
   "execution_count": 14,
   "id": "512485dd-150e-43fc-be91-7aaec7bbd6af",
   "metadata": {},
   "outputs": [
    {
     "name": "stdout",
     "output_type": "stream",
     "text": [
      "[9 8]\n"
     ]
    }
   ],
   "source": [
    "print(B)"
   ]
  },
  {
   "cell_type": "markdown",
   "id": "bed0ccf9-8abe-4dd8-9730-7b48d5b566d5",
   "metadata": {},
   "source": [
    "#### Solving the Equation"
   ]
  },
  {
   "cell_type": "code",
   "execution_count": 15,
   "id": "3b3b2466-d116-4178-908f-1c21e6cf0fe8",
   "metadata": {},
   "outputs": [
    {
     "name": "stdout",
     "output_type": "stream",
     "text": [
      "value x1 and x2 : [2. 3.]\n"
     ]
    }
   ],
   "source": [
    "print('value x1 and x2 :',np.linalg.solve(A,B))"
   ]
  },
  {
   "cell_type": "code",
   "execution_count": null,
   "id": "f87b1808-0b34-48bb-b742-119a60e3f9e4",
   "metadata": {},
   "outputs": [],
   "source": []
  }
 ],
 "metadata": {
  "kernelspec": {
   "display_name": "Python 3 (ipykernel)",
   "language": "python",
   "name": "python3"
  },
  "language_info": {
   "codemirror_mode": {
    "name": "ipython",
    "version": 3
   },
   "file_extension": ".py",
   "mimetype": "text/x-python",
   "name": "python",
   "nbconvert_exporter": "python",
   "pygments_lexer": "ipython3",
   "version": "3.12.7"
  }
 },
 "nbformat": 4,
 "nbformat_minor": 5
}
