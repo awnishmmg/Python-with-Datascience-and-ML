{
 "cells": [
  {
   "cell_type": "markdown",
   "id": "a8904b0d-9c70-42d2-bc30-62db2ed15e71",
   "metadata": {},
   "source": [
    "### using numpy for Matrix and determinants  : Linear Algebra ➡️ np.linalg()"
   ]
  },
  {
   "cell_type": "code",
   "execution_count": 1,
   "id": "2ff40d38-56c2-44d2-aabe-755ada2f4475",
   "metadata": {},
   "outputs": [],
   "source": [
    "import numpy as np"
   ]
  },
  {
   "cell_type": "code",
   "execution_count": 2,
   "id": "67921238-4167-427f-bf5b-397888580be9",
   "metadata": {},
   "outputs": [],
   "source": [
    "matA = np.array([1,2,3])\n",
    "matB = np.array([4,5,6])"
   ]
  },
  {
   "cell_type": "markdown",
   "id": "3174a681-e6a8-48b6-8a78-1bbdd7845190",
   "metadata": {},
   "source": [
    "### Addition and subtraction, with multiplication and division"
   ]
  },
  {
   "cell_type": "code",
   "execution_count": 3,
   "id": "a27c23fc-48ec-4383-99c1-56a1f71f1ca2",
   "metadata": {
    "scrolled": true
   },
   "outputs": [
    {
     "name": "stdout",
     "output_type": "stream",
     "text": [
      "Addition : [5 7 9]\n"
     ]
    }
   ],
   "source": [
    "print('Addition :',np.add(matA,matB))"
   ]
  },
  {
   "cell_type": "code",
   "execution_count": 4,
   "id": "66dbef7e-e46c-4d51-a953-bd28904db63c",
   "metadata": {
    "scrolled": true
   },
   "outputs": [
    {
     "name": "stdout",
     "output_type": "stream",
     "text": [
      "Subract : [-3 -3 -3]\n"
     ]
    }
   ],
   "source": [
    "print('Subract :',np.subtract(matA,matB))"
   ]
  },
  {
   "cell_type": "code",
   "execution_count": 5,
   "id": "35184455-abb3-4584-9fad-df98dcd5d0d2",
   "metadata": {
    "scrolled": true
   },
   "outputs": [
    {
     "name": "stdout",
     "output_type": "stream",
     "text": [
      "Mulitiply : [ 4 10 18]\n"
     ]
    }
   ],
   "source": [
    "print('Mulitiply :',np.multiply(matA,matB))"
   ]
  },
  {
   "cell_type": "code",
   "execution_count": 6,
   "id": "cbb64761-5af6-4b4c-87a2-a286654a985a",
   "metadata": {
    "scrolled": true
   },
   "outputs": [
    {
     "name": "stdout",
     "output_type": "stream",
     "text": [
      "Divide : [0.25 0.4  0.5 ]\n"
     ]
    }
   ],
   "source": [
    "print('Divide :',np.divide(matA,matB))"
   ]
  },
  {
   "cell_type": "markdown",
   "id": "b41a3a55-4d9d-4020-85ff-97080fc744c3",
   "metadata": {},
   "source": [
    "#### Matrix Algebra  for 2d Addition,subtraction,multiply and division "
   ]
  },
  {
   "cell_type": "code",
   "execution_count": 8,
   "id": "98b0a7b9-b4f8-4444-8617-400f928640f0",
   "metadata": {},
   "outputs": [],
   "source": [
    "A = np.array([\n",
    "    [1,2],\n",
    "    [3,4]\n",
    "])\n",
    "\n",
    "B = np.array([\n",
    "    [5,6],\n",
    "    [7,8]\n",
    "])\n",
    "\n"
   ]
  },
  {
   "cell_type": "markdown",
   "id": "78195fed-0a2c-4ecb-804c-7edec271cc71",
   "metadata": {},
   "source": [
    "#### Printing of the Matrix A and B"
   ]
  },
  {
   "cell_type": "code",
   "execution_count": 10,
   "id": "fe5c8336-d9c2-4947-8e07-d665c88f5252",
   "metadata": {
    "scrolled": true
   },
   "outputs": [
    {
     "name": "stdout",
     "output_type": "stream",
     "text": [
      "A =\n",
      " [[1 2]\n",
      " [3 4]]\n",
      "B = \n",
      " [[5 6]\n",
      " [7 8]]\n"
     ]
    }
   ],
   "source": [
    "print('A =\\n',A)\n",
    "print('B = \\n',B)"
   ]
  },
  {
   "cell_type": "markdown",
   "id": "46e1bec1-f3b8-4b30-854b-df0a3c832423",
   "metadata": {},
   "source": [
    "#### Order of the Matrix "
   ]
  },
  {
   "cell_type": "code",
   "execution_count": 11,
   "id": "f34d1757-7a30-4bdd-9fa9-eec4e74859c7",
   "metadata": {
    "scrolled": true
   },
   "outputs": [
    {
     "name": "stdout",
     "output_type": "stream",
     "text": [
      "shape of A=\n",
      " (2, 2)\n",
      "shape of B=\n",
      " (2, 2)\n"
     ]
    }
   ],
   "source": [
    "print('shape of A=\\n',A.shape)\n",
    "print('shape of B=\\n',B.shape)"
   ]
  },
  {
   "cell_type": "code",
   "execution_count": 13,
   "id": "97e9bff7-0fc9-4d9f-bf23-18f0af98f16d",
   "metadata": {},
   "outputs": [
    {
     "name": "stdout",
     "output_type": "stream",
     "text": [
      "type: <class 'tuple'>\n"
     ]
    }
   ],
   "source": [
    "print('type:',type(A.shape))"
   ]
  },
  {
   "cell_type": "markdown",
   "id": "a275d66b-6742-44e1-805c-792742796752",
   "metadata": {},
   "source": [
    "**Note : the numpy matrix does not support any pre-defined method to check if the matrix is square or not hence we need to explicitly check row = column**\n",
    "\n",
    "**Hint : A.shape => tuple => (rows, columns) position of rows : 0th position of the column : 1th\n",
    "index of 0th == index of 1st => matrix is square**"
   ]
  },
  {
   "cell_type": "markdown",
   "id": "bbd59ffe-4539-4456-b566-31e37a8fb06f",
   "metadata": {},
   "source": [
    "#### Functions to check if the matrix is square or not"
   ]
  },
  {
   "cell_type": "code",
   "execution_count": 15,
   "id": "31855f8c-fe8b-4cb0-852d-ad5381baa3ad",
   "metadata": {},
   "outputs": [],
   "source": [
    "def is_square_matrix(matrix):\n",
    "        row = matrix.shape[0]\n",
    "        cols = matrix.shape[1]\n",
    "        if row == cols:\n",
    "            return True\n",
    "        else:\n",
    "            return False"
   ]
  },
  {
   "cell_type": "code",
   "execution_count": 19,
   "id": "b6f37104-8916-46b5-af6c-3c76254ea1ed",
   "metadata": {
    "scrolled": true
   },
   "outputs": [
    {
     "name": "stdout",
     "output_type": "stream",
     "text": [
      "(2, 3)\n"
     ]
    }
   ],
   "source": [
    "C = np.array([\n",
    "    [1,2,3],\n",
    "    [4,5,6]\n",
    "])\n",
    "print(C.shape)"
   ]
  },
  {
   "cell_type": "markdown",
   "id": "bf2b3886-e448-4cce-848a-067575935a65",
   "metadata": {},
   "source": [
    "#### Checking the Matrix if it is square or not"
   ]
  },
  {
   "cell_type": "code",
   "execution_count": 20,
   "id": "46cc5d0f-4b9d-4a1d-be07-7f723a2bcd01",
   "metadata": {
    "scrolled": true
   },
   "outputs": [
    {
     "name": "stdout",
     "output_type": "stream",
     "text": [
      "is C square Matrix =\n",
      " False\n"
     ]
    }
   ],
   "source": [
    "print('is C square Matrix =\\n',is_square_matrix(C))"
   ]
  },
  {
   "cell_type": "code",
   "execution_count": 16,
   "id": "809490a1-7e63-4b14-948a-cbf7dc1b20cc",
   "metadata": {
    "scrolled": true
   },
   "outputs": [
    {
     "name": "stdout",
     "output_type": "stream",
     "text": [
      "is A square Matrix =\n",
      " True\n"
     ]
    }
   ],
   "source": [
    "print('is A square Matrix =\\n',is_square_matrix(A))"
   ]
  },
  {
   "cell_type": "code",
   "execution_count": 21,
   "id": "7eea72e6-d354-4376-965a-82283d262bb6",
   "metadata": {
    "scrolled": true
   },
   "outputs": [
    {
     "name": "stdout",
     "output_type": "stream",
     "text": [
      "is B square Matrix =\n",
      " True\n"
     ]
    }
   ],
   "source": [
    "print('is B square Matrix =\\n',is_square_matrix(B))"
   ]
  },
  {
   "cell_type": "markdown",
   "id": "4c898017-f9b4-47cc-8f60-37e6b354cd70",
   "metadata": {},
   "source": [
    "**Note : in Rectangular Matrix its order can be changed, hence shape and reshape will effect but in case of the square matrix\n",
    "reshaping will not change the order but definetly position of the element may change significantly.**"
   ]
  },
  {
   "cell_type": "markdown",
   "id": "1505294c-e822-431f-8e71-5ab1d215dadf",
   "metadata": {},
   "source": [
    "#### Matrix Operations"
   ]
  },
  {
   "cell_type": "code",
   "execution_count": 27,
   "id": "3aaa052d-2aaa-40b4-9ae8-4378f5ad3744",
   "metadata": {
    "scrolled": true
   },
   "outputs": [
    {
     "name": "stdout",
     "output_type": "stream",
     "text": [
      "Addition :\n",
      " [[ 6  8]\n",
      " [10 12]]\n"
     ]
    }
   ],
   "source": [
    "print('Addition :\\n',np.add(A,B))"
   ]
  },
  {
   "cell_type": "code",
   "execution_count": 28,
   "id": "d9f06659-5c18-4540-8707-940f58e11e46",
   "metadata": {
    "scrolled": true
   },
   "outputs": [
    {
     "name": "stdout",
     "output_type": "stream",
     "text": [
      "Subract :\n",
      " [[-4 -4]\n",
      " [-4 -4]]\n"
     ]
    }
   ],
   "source": [
    "print('Subract :\\n',np.subtract(A,B))"
   ]
  },
  {
   "cell_type": "code",
   "execution_count": 29,
   "id": "d662870b-59aa-480d-9692-f7ced03ae07b",
   "metadata": {
    "scrolled": true
   },
   "outputs": [
    {
     "name": "stdout",
     "output_type": "stream",
     "text": [
      "Mulitiply :\n",
      " [[ 5 12]\n",
      " [21 32]]\n"
     ]
    }
   ],
   "source": [
    "print('Mulitiply :\\n',np.multiply(A,B))"
   ]
  },
  {
   "cell_type": "code",
   "execution_count": 30,
   "id": "2996dc41-b314-4a3b-9e13-90c618388e2b",
   "metadata": {
    "scrolled": true
   },
   "outputs": [
    {
     "name": "stdout",
     "output_type": "stream",
     "text": [
      "Divide :\n",
      " [[0.2        0.33333333]\n",
      " [0.42857143 0.5       ]]\n"
     ]
    }
   ],
   "source": [
    "print('Divide :\\n',np.divide(A,B))"
   ]
  },
  {
   "cell_type": "markdown",
   "id": "8c44d39f-18a1-4c4f-b83f-485c08a8e918",
   "metadata": {},
   "source": [
    "#### Operation with different Shape"
   ]
  },
  {
   "cell_type": "code",
   "execution_count": 31,
   "id": "6adf3853-9401-4fb9-848c-60162229a967",
   "metadata": {
    "scrolled": true
   },
   "outputs": [
    {
     "ename": "ValueError",
     "evalue": "operands could not be broadcast together with shapes (2,2) (2,3) ",
     "output_type": "error",
     "traceback": [
      "\u001b[31m---------------------------------------------------------------------------\u001b[39m",
      "\u001b[31mValueError\u001b[39m                                Traceback (most recent call last)",
      "\u001b[36mCell\u001b[39m\u001b[36m \u001b[39m\u001b[32mIn[31]\u001b[39m\u001b[32m, line 1\u001b[39m\n\u001b[32m----> \u001b[39m\u001b[32m1\u001b[39m \u001b[38;5;28mprint\u001b[39m(\u001b[33m'\u001b[39m\u001b[33mDivide A with C :\u001b[39m\u001b[38;5;130;01m\\n\u001b[39;00m\u001b[33m'\u001b[39m,\u001b[43mnp\u001b[49m\u001b[43m.\u001b[49m\u001b[43mdivide\u001b[49m\u001b[43m(\u001b[49m\u001b[43mA\u001b[49m\u001b[43m,\u001b[49m\u001b[43mC\u001b[49m\u001b[43m)\u001b[49m)\n",
      "\u001b[31mValueError\u001b[39m: operands could not be broadcast together with shapes (2,2) (2,3) "
     ]
    }
   ],
   "source": [
    "print('Divide A with C :\\n',np.divide(A,C))"
   ]
  },
  {
   "cell_type": "markdown",
   "id": "6f56702f-9c0f-46ee-b8eb-c69ccdf0b602",
   "metadata": {},
   "source": [
    "#### Vector product "
   ]
  },
  {
   "cell_type": "code",
   "execution_count": 33,
   "id": "aa12294e-f838-4b05-a14f-21f9c5cf0e49",
   "metadata": {
    "scrolled": true
   },
   "outputs": [
    {
     "name": "stdout",
     "output_type": "stream",
     "text": [
      "Vector Product A with B :\n",
      " [[19 22]\n",
      " [43 50]]\n"
     ]
    }
   ],
   "source": [
    "print('Vector Product A with B :\\n',np.dot(A,B))"
   ]
  },
  {
   "cell_type": "markdown",
   "id": "dabf0988-6a43-4497-8079-edcd44e63f80",
   "metadata": {},
   "source": [
    "### Transpose of the Matrix "
   ]
  },
  {
   "cell_type": "code",
   "execution_count": 37,
   "id": "a0db8695-5749-42bb-8b8c-5a13e92aa3c2",
   "metadata": {},
   "outputs": [
    {
     "name": "stdout",
     "output_type": "stream",
     "text": [
      "Transpose : \n",
      "  [[1 3]\n",
      " [2 4]]\n"
     ]
    }
   ],
   "source": [
    "print('Transpose : \\n ',np.transpose(A))"
   ]
  },
  {
   "cell_type": "code",
   "execution_count": 39,
   "id": "7486aa9b-7b0c-4a32-bf18-69de4915c3c5",
   "metadata": {
    "scrolled": true
   },
   "outputs": [
    {
     "name": "stdout",
     "output_type": "stream",
     "text": [
      "Transpose : \n",
      "  [[1 3]\n",
      " [2 4]]\n"
     ]
    }
   ],
   "source": [
    "print('Transpose : \\n ',A.T)"
   ]
  },
  {
   "cell_type": "markdown",
   "id": "0bf45d95-a450-45d5-88ff-1834b4dd525e",
   "metadata": {},
   "source": [
    "### Inverse of the Matrix "
   ]
  },
  {
   "cell_type": "code",
   "execution_count": 40,
   "id": "fcd87193-f22f-45e8-85cf-8bf8a94e97dd",
   "metadata": {},
   "outputs": [
    {
     "name": "stdout",
     "output_type": "stream",
     "text": [
      "Inverse of A or A^-1 or Arc(A) =\n",
      " [[-2.   1. ]\n",
      " [ 1.5 -0.5]]\n"
     ]
    }
   ],
   "source": [
    "print('Inverse of A or A^-1 or Arc(A) =\\n',np.linalg.inv(A)) "
   ]
  },
  {
   "cell_type": "markdown",
   "id": "2269a5bb-e35a-4e2a-b4fc-e089366f8fe7",
   "metadata": {},
   "source": [
    "### Determinant of the Matrix"
   ]
  },
  {
   "cell_type": "code",
   "execution_count": 42,
   "id": "690e4aba-caa8-44f7-9b0e-8a8acd6b062b",
   "metadata": {},
   "outputs": [
    {
     "name": "stdout",
     "output_type": "stream",
     "text": [
      "Determinant |A| =\n",
      " -2.0000000000000004\n"
     ]
    }
   ],
   "source": [
    "print('Determinant |A| =\\n',np.linalg.det(A)) "
   ]
  },
  {
   "cell_type": "code",
   "execution_count": 47,
   "id": "2d1f9b98-4a00-44d7-a323-d7454549c4bf",
   "metadata": {},
   "outputs": [],
   "source": [
    "#### Eigen value and Eigen Vectors \n",
    "eigen_value,eigen_vector = np.linalg.eig(A)"
   ]
  },
  {
   "cell_type": "code",
   "execution_count": 49,
   "id": "cb7fe44b-3556-428e-aee7-e46d0c84ec16",
   "metadata": {},
   "outputs": [
    {
     "name": "stdout",
     "output_type": "stream",
     "text": [
      "eigen_value = [-0.37228132  5.37228132],\n",
      " eigen_vector =[[-0.82456484 -0.41597356]\n",
      " [ 0.56576746 -0.90937671]]\n"
     ]
    }
   ],
   "source": [
    "print(f'eigen_value = {eigen_value},\\n eigen_vector ={eigen_vector}')"
   ]
  },
  {
   "cell_type": "code",
   "execution_count": null,
   "id": "34863888-e9aa-4d8f-a8c9-010dff23cc93",
   "metadata": {},
   "outputs": [],
   "source": []
  }
 ],
 "metadata": {
  "kernelspec": {
   "display_name": "Python 3 (ipykernel)",
   "language": "python",
   "name": "python3"
  },
  "language_info": {
   "codemirror_mode": {
    "name": "ipython",
    "version": 3
   },
   "file_extension": ".py",
   "mimetype": "text/x-python",
   "name": "python",
   "nbconvert_exporter": "python",
   "pygments_lexer": "ipython3",
   "version": "3.12.7"
  }
 },
 "nbformat": 4,
 "nbformat_minor": 5
}
