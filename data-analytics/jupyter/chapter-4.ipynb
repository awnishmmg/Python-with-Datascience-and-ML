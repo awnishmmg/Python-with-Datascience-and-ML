{
 "cells": [
  {
   "cell_type": "markdown",
   "id": "fe556a97-3792-409d-b32f-d3ecce437035",
   "metadata": {},
   "source": [
    "### Universal Function in Numpy "
   ]
  },
  {
   "cell_type": "markdown",
   "id": "aabb245e-4c4a-4c4d-ba9a-ea7ce4c62e5b",
   "metadata": {},
   "source": [
    "There are two main operation in numpy \n",
    "\n",
    " **Vectorization Technique**\n",
    " \n",
    " - scalar operation : element wise operation\n",
    " - vector operation : matrix wise operation - vector operation"
   ]
  },
  {
   "cell_type": "code",
   "execution_count": 3,
   "id": "d472c654-954e-49fb-8ba3-71a0870523a8",
   "metadata": {},
   "outputs": [],
   "source": [
    "import numpy as np"
   ]
  },
  {
   "cell_type": "markdown",
   "id": "fcd8167c-c29c-4bff-8dd4-b0a67644a347",
   "metadata": {},
   "source": [
    "#### Scalar technique : scalar value = 5"
   ]
  },
  {
   "cell_type": "code",
   "execution_count": 4,
   "id": "105a93f4-2d92-4ec6-9ee8-f96b9e72ec0d",
   "metadata": {},
   "outputs": [
    {
     "name": "stdout",
     "output_type": "stream",
     "text": [
      "[6 7 8 9]\n"
     ]
    }
   ],
   "source": [
    "\n",
    "A = np.array([1,2,3,4])\n",
    "B = A+5 \n",
    "print(B)"
   ]
  },
  {
   "cell_type": "markdown",
   "id": "cc7b99b7-7461-484f-ad7e-1780398edc84",
   "metadata": {},
   "source": [
    "#### Vector technique : vector value (n dimensional) = [1,2,3]"
   ]
  },
  {
   "cell_type": "code",
   "execution_count": 5,
   "id": "50c8eb1e-f160-4841-acdd-0943e1064a4c",
   "metadata": {},
   "outputs": [
    {
     "name": "stdout",
     "output_type": "stream",
     "text": [
      "[[ 1  4  9]\n",
      " [ 4 10 18]]\n"
     ]
    }
   ],
   "source": [
    "matrix = np.array([[1,2,3],[4,5,6]])\n",
    "vector = [1,2,3]\n",
    "print(matrix*vector)"
   ]
  },
  {
   "cell_type": "code",
   "execution_count": 6,
   "id": "6ce775df-0fc2-47cd-86a8-32da557aa714",
   "metadata": {},
   "outputs": [
    {
     "name": "stdout",
     "output_type": "stream",
     "text": [
      "[[ 1  4  9]\n",
      " [ 4 10 18]]\n"
     ]
    }
   ],
   "source": [
    "matrix = np.array([[1,2,3],[4,5,6]])\n",
    "vector = np.array([1,2,3])\n",
    "print(matrix*vector)"
   ]
  },
  {
   "cell_type": "markdown",
   "id": "4871ebe2-d114-4305-8b98-38d4fe94d42d",
   "metadata": {},
   "source": [
    "#### Calculating the Sum and mean"
   ]
  },
  {
   "cell_type": "code",
   "execution_count": 9,
   "id": "8e228e64-0278-45c9-a320-4b6c855e5559",
   "metadata": {},
   "outputs": [
    {
     "name": "stdout",
     "output_type": "stream",
     "text": [
      "sum = 21\n",
      "mean= 3.5\n"
     ]
    }
   ],
   "source": [
    "a = np.array([1,2,3,4,5,6])\n",
    "print('sum =',np.sum(a))\n",
    "print('mean=',np.mean(a))"
   ]
  },
  {
   "cell_type": "code",
   "execution_count": 10,
   "id": "1e1904f7-7efe-4b7c-b401-f0f669e870b6",
   "metadata": {},
   "outputs": [
    {
     "name": "stdout",
     "output_type": "stream",
     "text": [
      "avg= 3.5\n"
     ]
    }
   ],
   "source": [
    "print('avg=',np.sum(a)/a.size)"
   ]
  },
  {
   "cell_type": "markdown",
   "id": "0056a4a7-095e-417d-8ba6-bbe4150e6794",
   "metadata": {},
   "source": [
    "#### How to calculate standard deviation (std) and variance (var)"
   ]
  },
  {
   "cell_type": "code",
   "execution_count": 11,
   "id": "c52fecb0-e56f-41b5-9ec1-80b26f36f535",
   "metadata": {},
   "outputs": [
    {
     "name": "stdout",
     "output_type": "stream",
     "text": [
      "Standard Deviation= 1.707825127659933\n",
      "Variance= 2.9166666666666665\n"
     ]
    }
   ],
   "source": [
    "print('Standard Deviation=',np.std(a))\n",
    "print('Variance=',np.var(a))"
   ]
  },
  {
   "cell_type": "code",
   "execution_count": 12,
   "id": "a75d3f4c-1f0b-4cc3-ba53-feaace5864c5",
   "metadata": {},
   "outputs": [
    {
     "name": "stdout",
     "output_type": "stream",
     "text": [
      "Standard Deviation (precision for 2 values)= 1.71\n",
      "Variance (precision for 2 values) = 3\n"
     ]
    }
   ],
   "source": [
    "print('Standard Deviation (precision for 2 values)=',round(np.std(a),2))\n",
    "print('Variance (precision for 2 values) =',round(np.var(a)))"
   ]
  },
  {
   "cell_type": "markdown",
   "id": "318644f1-9e4e-439a-b102-2edac64aa0a5",
   "metadata": {},
   "source": [
    "#### using math module with numpy with scalar operation of permuation and combination"
   ]
  },
  {
   "cell_type": "code",
   "execution_count": 15,
   "id": "f19eda19-10fa-4b3b-ab7e-4683d330d4b9",
   "metadata": {},
   "outputs": [],
   "source": [
    "import math as m "
   ]
  },
  {
   "cell_type": "code",
   "execution_count": 16,
   "id": "772ce8c3-6f80-41ef-917c-e71469ee323e",
   "metadata": {},
   "outputs": [
    {
     "name": "stdout",
     "output_type": "stream",
     "text": [
      "[1 2 3 4 5 6 7 8 9]\n"
     ]
    }
   ],
   "source": [
    "A =  np.arange(1,10)\n",
    "print(A)"
   ]
  },
  {
   "cell_type": "markdown",
   "id": "2c602e6f-984b-404b-88de-9b3cc79eac87",
   "metadata": {},
   "source": [
    "#### scalar operation with permuations "
   ]
  },
  {
   "cell_type": "code",
   "execution_count": 17,
   "id": "bbaba872-df5c-46cd-9467-65b995fd2d63",
   "metadata": {},
   "outputs": [
    {
     "name": "stdout",
     "output_type": "stream",
     "text": [
      "[73 74 75 76 77 78 79 80 81]\n"
     ]
    }
   ],
   "source": [
    "B = A + m.perm(A.size,2)\n",
    "print(B)"
   ]
  },
  {
   "cell_type": "markdown",
   "id": "21364ee6-2bbb-4e95-89b6-4a888fd9d726",
   "metadata": {},
   "source": [
    "#### scalar operation with combinations"
   ]
  },
  {
   "cell_type": "code",
   "execution_count": 18,
   "id": "01526caf-d121-4d2d-8f49-ce35f1f26cef",
   "metadata": {},
   "outputs": [
    {
     "name": "stdout",
     "output_type": "stream",
     "text": [
      "[37 38 39 40 41 42 43 44 45]\n"
     ]
    }
   ],
   "source": [
    "B = A + m.comb(A.size,2)\n",
    "print(B)"
   ]
  },
  {
   "cell_type": "markdown",
   "id": "a343fdb0-6799-46de-81cf-02dd5a5f7179",
   "metadata": {},
   "source": [
    "#### min and max "
   ]
  },
  {
   "cell_type": "code",
   "execution_count": 22,
   "id": "a432d668-af83-42f8-a879-6d9a5ed1c117",
   "metadata": {},
   "outputs": [
    {
     "name": "stdout",
     "output_type": "stream",
     "text": [
      "minimum of the a = 1\n",
      "max of the a = 6\n"
     ]
    }
   ],
   "source": [
    "print('minimum of the a =',np.min(a))\n",
    "print('max of the a =',np.max(a))"
   ]
  },
  {
   "cell_type": "markdown",
   "id": "08b5cb06-1f4b-4289-b2f5-3eb4d748660b",
   "metadata": {},
   "source": [
    "#### power and remainder"
   ]
  },
  {
   "cell_type": "code",
   "execution_count": 24,
   "id": "1dac0843-5dad-4828-a4cb-18f8086c5ea7",
   "metadata": {},
   "outputs": [
    {
     "name": "stdout",
     "output_type": "stream",
     "text": [
      "power of a = [ 1  4  9 16 25 36]\n",
      "Remainder of the a = [1 0 1 0 1 0]\n"
     ]
    }
   ],
   "source": [
    "print('power of a =',np.power(a,2))\n",
    "print('Remainder of the a =',np.mod(a,2))"
   ]
  },
  {
   "cell_type": "markdown",
   "id": "a9f15aaf-f184-4808-afa8-99d929be9cf6",
   "metadata": {},
   "source": [
    "#### trignometric and logarithmic"
   ]
  },
  {
   "cell_type": "code",
   "execution_count": 29,
   "id": "57f4f4b8-507c-4026-a9bc-18a991acf89a",
   "metadata": {},
   "outputs": [],
   "source": [
    "import math as m"
   ]
  },
  {
   "cell_type": "code",
   "execution_count": 31,
   "id": "ce45d53e-e953-47bb-9e2d-8e3287881bde",
   "metadata": {},
   "outputs": [
    {
     "name": "stdout",
     "output_type": "stream",
     "text": [
      "sin 30= [ 0.84147098  0.90929743  0.14112001 -0.7568025  -0.95892427 -0.2794155 ]\n"
     ]
    }
   ],
   "source": [
    "print('sin =',np.sin(a))"
   ]
  },
  {
   "cell_type": "code",
   "execution_count": 33,
   "id": "17034f29-e920-42f0-a145-36e04b04daf6",
   "metadata": {},
   "outputs": [
    {
     "name": "stdout",
     "output_type": "stream",
     "text": [
      "degree 0.5235987755982988\n"
     ]
    }
   ],
   "source": [
    "deg = m.pi/6\n",
    "print('degree',deg)\n"
   ]
  },
  {
   "cell_type": "code",
   "execution_count": 34,
   "id": "1db3d940-f5e6-4f61-87ce-c841ff3b53b7",
   "metadata": {},
   "outputs": [
    {
     "name": "stdout",
     "output_type": "stream",
     "text": [
      "sin value of 0.5235987755982988 [ 0.44059318  0.47610702  0.07389026 -0.39626086 -0.50209158 -0.14630161]\n"
     ]
    }
   ],
   "source": [
    "print(f'sin value of {deg}',np.sin(a)*deg)"
   ]
  },
  {
   "cell_type": "code",
   "execution_count": 37,
   "id": "0ddbf20b-1d3a-4a0a-901a-938c9b7a8798",
   "metadata": {},
   "outputs": [
    {
     "name": "stdout",
     "output_type": "stream",
     "text": [
      "logarithm of e= [0.         0.69314718 1.09861229 1.38629436 1.60943791 1.79175947]\n",
      "logarithm of base 2= [0.         1.         1.5849625  2.         2.32192809 2.5849625 ]\n",
      "logarithm of base 10= [0.         0.30103    0.47712125 0.60205999 0.69897    0.77815125]\n"
     ]
    }
   ],
   "source": [
    "print('logarithm of e=',np.log(a))\n",
    "print('logarithm of base 2=',np.log2(a))\n",
    "print('logarithm of base 10=',np.log10(a))"
   ]
  },
  {
   "cell_type": "code",
   "execution_count": null,
   "id": "17f0831d-129f-4138-a5a1-b87e8c910c2b",
   "metadata": {},
   "outputs": [],
   "source": []
  }
 ],
 "metadata": {
  "kernelspec": {
   "display_name": "Python 3 (ipykernel)",
   "language": "python",
   "name": "python3"
  },
  "language_info": {
   "codemirror_mode": {
    "name": "ipython",
    "version": 3
   },
   "file_extension": ".py",
   "mimetype": "text/x-python",
   "name": "python",
   "nbconvert_exporter": "python",
   "pygments_lexer": "ipython3",
   "version": "3.12.7"
  }
 },
 "nbformat": 4,
 "nbformat_minor": 5
}
