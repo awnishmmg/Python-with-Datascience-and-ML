{
 "cells": [
  {
   "cell_type": "markdown",
   "id": "f74b96f9-63ad-46e7-b3de-c5e7126fc70d",
   "metadata": {},
   "source": [
    "#### Working with NTLK to remove Stopwords "
   ]
  },
  {
   "cell_type": "code",
   "execution_count": 2,
   "id": "98ae1bbd-c2ca-4800-a0f2-8c6b23f99484",
   "metadata": {},
   "outputs": [],
   "source": [
    "import nltk"
   ]
  },
  {
   "cell_type": "code",
   "execution_count": 3,
   "id": "cf464755-6319-42b7-9d2f-91158f2cb4b7",
   "metadata": {},
   "outputs": [
    {
     "name": "stderr",
     "output_type": "stream",
     "text": [
      "[nltk_data] Downloading package punkt to\n",
      "[nltk_data]     C:\\Users\\Imart\\AppData\\Roaming\\nltk_data...\n",
      "[nltk_data]   Package punkt is already up-to-date!\n",
      "[nltk_data] Downloading package punkt_tab to\n",
      "[nltk_data]     C:\\Users\\Imart\\AppData\\Roaming\\nltk_data...\n",
      "[nltk_data]   Package punkt_tab is already up-to-date!\n"
     ]
    },
    {
     "data": {
      "text/plain": [
       "True"
      ]
     },
     "execution_count": 3,
     "metadata": {},
     "output_type": "execute_result"
    }
   ],
   "source": [
    "nltk.download('punkt')\n",
    "nltk.download('punkt_tab')"
   ]
  },
  {
   "cell_type": "code",
   "execution_count": 5,
   "id": "7a341861-08ae-46d2-b8e3-3f44b7373f0e",
   "metadata": {},
   "outputs": [],
   "source": [
    "from nltk.corpus import stopwords"
   ]
  },
  {
   "cell_type": "markdown",
   "id": "c2d27ae8-a158-4e54-951d-8aad5527d635",
   "metadata": {},
   "source": [
    "#### Befor we can stop words we need corpus"
   ]
  },
  {
   "cell_type": "code",
   "execution_count": 8,
   "id": "7f8a2748-e6ad-49ba-9710-a5bac0c57ac1",
   "metadata": {},
   "outputs": [],
   "source": [
    "from nltk.tokenize import sent_tokenize"
   ]
  },
  {
   "cell_type": "code",
   "execution_count": 9,
   "id": "2f8f22f0-155b-4957-9e1d-b0e8f5a2b707",
   "metadata": {},
   "outputs": [
    {
     "name": "stdout",
     "output_type": "stream",
     "text": [
      "\n",
      "    Mr. Awnish is Hero and Ms. Katrina is Herion.\n",
      "    Katrina Likes Awnish. Awnish Like Sunny.  \n",
      "\n",
      "['\\n    Mr. Awnish is Hero and Ms. Katrina is Herion.', 'Katrina Likes Awnish.', 'Awnish Like Sunny.']\n"
     ]
    }
   ],
   "source": [
    "corpus = '''\n",
    "    Mr. Awnish is Hero and Ms. Katrina is Herion.\n",
    "    Katrina Likes Awnish. Awnish Like Sunny.  \n",
    "'''\n",
    "print(corpus)\n",
    "documents  = sent_tokenize(corpus)\n",
    "print(documents)"
   ]
  },
  {
   "cell_type": "markdown",
   "id": "b67df4dd-cff6-4780-acfc-71b52bb6070a",
   "metadata": {},
   "source": [
    "#### Finding the document or setences from the corpus or paragraph"
   ]
  },
  {
   "cell_type": "code",
   "execution_count": 10,
   "id": "5d1a38bb-9460-46cf-8eac-ed6cfb146eaa",
   "metadata": {},
   "outputs": [
    {
     "name": "stdout",
     "output_type": "stream",
     "text": [
      "\n",
      "    Mr. Awnish is Hero and Ms. Katrina is Herion.\n",
      "Katrina Likes Awnish.\n",
      "Awnish Like Sunny.\n",
      "No of documents = 3\n"
     ]
    }
   ],
   "source": [
    "for document in documents:\n",
    "    print(document)\n",
    "\n",
    "\n",
    "print(f'No of documents = {len(documents)}')"
   ]
  },
  {
   "cell_type": "markdown",
   "id": "6dc61642-99f7-4bf7-9825-72c91f55ba2f",
   "metadata": {},
   "source": [
    "#### find the work tokenization"
   ]
  },
  {
   "cell_type": "code",
   "execution_count": 12,
   "id": "c9c5553d-1ae5-4f3e-a8d6-4d0275197551",
   "metadata": {},
   "outputs": [
    {
     "name": "stdout",
     "output_type": "stream",
     "text": [
      "word tokenizer : ['Mr.', 'Awnish', 'is', 'Hero', 'and', 'Ms.', 'Katrina', 'is', 'Herion', '.', 'Katrina', 'Likes', 'Awnish', '.', 'Awnish', 'Like', 'Sunny', '.']\n"
     ]
    }
   ],
   "source": [
    "from nltk.tokenize import word_tokenize,RegexpTokenizer,TweetTokenizer\n",
    "words  =  word_tokenize(text=corpus)\n",
    "print('word tokenizer :',words)"
   ]
  },
  {
   "cell_type": "code",
   "execution_count": 13,
   "id": "dc0cc097-ff3a-457b-a24a-87db71e683d8",
   "metadata": {},
   "outputs": [],
   "source": [
    "stop_words = set(stopwords.words('english'))\n",
    "filtered = [w for w in words if w.lower() not in stop_words]"
   ]
  },
  {
   "cell_type": "code",
   "execution_count": 14,
   "id": "31f78bba-8928-4325-9bdb-e6f1ac4715d8",
   "metadata": {},
   "outputs": [
    {
     "name": "stdout",
     "output_type": "stream",
     "text": [
      "filtered: ['Mr.', 'Awnish', 'Hero', 'Ms.', 'Katrina', 'Herion', '.', 'Katrina', 'Likes', 'Awnish', '.', 'Awnish', 'Like', 'Sunny', '.']\n"
     ]
    }
   ],
   "source": [
    "print('filtered:',filtered)"
   ]
  },
  {
   "cell_type": "code",
   "execution_count": 15,
   "id": "313f8ae7-85f6-4011-879c-8417c7542561",
   "metadata": {},
   "outputs": [
    {
     "name": "stdout",
     "output_type": "stream",
     "text": [
      "stop_words: {'against', 's', 'than', 'between', 'when', 'up', 'of', 'him', 'again', \"hasn't\", \"she'll\", 'herself', 'do', 'because', 'most', 'after', \"wasn't\", 'she', 'until', 't', 'having', \"she's\", \"he'd\", 'during', 'o', 'and', 'in', 'only', 'then', 'mustn', \"it's\", \"i've\", 'd', \"it'll\", 'been', \"she'd\", \"we've\", 'did', 'isn', 'such', 'why', \"i'd\", 'i', 'here', 'the', 'about', 'yourselves', 'is', 'can', 'my', 'whom', 'above', 'from', 'it', \"you'll\", 'at', 'below', 'if', 'myself', 'to', \"they're\", 'nor', 'off', \"mightn't\", \"weren't\", 'a', \"couldn't\", 'there', 'too', \"you'd\", 'while', 'had', \"he's\", 'down', 'itself', 'over', \"hadn't\", 'will', 'but', 'doesn', 'as', \"isn't\", \"they'd\", 'm', \"shan't\", 'this', 'haven', 'couldn', 'does', \"we'd\", \"shouldn't\", \"you've\", 'his', 'themselves', 'few', 'ours', \"i'm\", 'am', 'hadn', 'or', 'weren', \"you're\", \"should've\", 'your', 'mightn', \"won't\", 'our', 'other', 'should', 'hasn', 'any', 'their', 're', 'same', 'no', 'won', 'further', 'on', 'where', 'who', 'yours', 'them', 'now', 'himself', \"they'll\", 'that', 'ourselves', 'an', 'll', \"we're\", 'these', 'own', 'yourself', 'y', \"didn't\", 'how', 'once', \"that'll\", \"doesn't\", 'all', \"don't\", 'he', 'into', 'doing', \"he'll\", 'by', 'her', 'what', \"aren't\", 'me', 'under', 'was', 'theirs', 'shan', 'be', 'those', 've', 'just', \"they've\", 'which', 'you', 'are', 'more', 'its', \"needn't\", 'don', 'some', 'were', \"mustn't\", 'we', 'wasn', 'out', 'each', 'both', \"we'll\", 'not', 'with', 'hers', \"i'll\", 'wouldn', 'didn', 'very', 'being', 'have', 'so', 'through', 'shouldn', \"it'd\", 'has', 'aren', 'before', 'ain', \"haven't\", 'for', 'they', 'ma', \"wouldn't\", 'needn'}\n"
     ]
    }
   ],
   "source": [
    "print('stop_words:',stop_words)"
   ]
  },
  {
   "cell_type": "code",
   "execution_count": null,
   "id": "643edd61-facf-4d94-81b1-d118786af977",
   "metadata": {},
   "outputs": [],
   "source": []
  }
 ],
 "metadata": {
  "kernelspec": {
   "display_name": "Python 3 (ipykernel)",
   "language": "python",
   "name": "python3"
  },
  "language_info": {
   "codemirror_mode": {
    "name": "ipython",
    "version": 3
   },
   "file_extension": ".py",
   "mimetype": "text/x-python",
   "name": "python",
   "nbconvert_exporter": "python",
   "pygments_lexer": "ipython3",
   "version": "3.12.7"
  }
 },
 "nbformat": 4,
 "nbformat_minor": 5
}
