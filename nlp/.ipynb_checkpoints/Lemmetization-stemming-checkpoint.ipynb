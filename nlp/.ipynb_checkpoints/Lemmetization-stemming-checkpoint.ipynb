{
 "cells": [
  {
   "cell_type": "markdown",
   "id": "d27ae013-54bf-4936-9fa0-394f4dab36de",
   "metadata": {},
   "source": [
    "### working with Lemmatization and Stemming Techniques"
   ]
  },
  {
   "cell_type": "markdown",
   "id": "2763f1d8-d939-417e-a626-74307d1e0a30",
   "metadata": {},
   "source": [
    " **Stemming Technique is technique of reducing the word to its root word (stem)**"
   ]
  },
  {
   "cell_type": "markdown",
   "id": "79b5915c-fcbe-4d81-bd4c-7909b55a92aa",
   "metadata": {},
   "source": [
    "**Eg: Running -> run, Eating -> eat, eaten -> eat**"
   ]
  },
  {
   "cell_type": "markdown",
   "id": "ca8180df-c9a2-49f8-be2b-3790e03fe25a",
   "metadata": {},
   "source": [
    "#### Rule Based Stemming | Porter Stemmer"
   ]
  },
  {
   "cell_type": "code",
   "execution_count": 4,
   "id": "f5ed4e92-3b40-4387-a868-d7e45f3ea7a1",
   "metadata": {},
   "outputs": [
    {
     "name": "stdout",
     "output_type": "stream",
     "text": [
      "run\n"
     ]
    }
   ],
   "source": [
    "from nltk.stem import PorterStemmer\n",
    "ps = PorterStemmer()\n",
    "print(ps.stem('running'))"
   ]
  },
  {
   "cell_type": "markdown",
   "id": "d7353dc7-1ec3-4e55-ab7c-924fa1e59a28",
   "metadata": {},
   "source": [
    "#### Dictionary Based : Different Forms of verbs have different key but stem word remains same"
   ]
  },
  {
   "cell_type": "code",
   "execution_count": 2,
   "id": "1cbc2ed6-eebf-46ea-8f66-d48a6979ca1f",
   "metadata": {},
   "outputs": [
    {
     "name": "stdout",
     "output_type": "stream",
     "text": [
      "run\n"
     ]
    }
   ],
   "source": [
    "dictionary = {'running':'run','ran':'run','runner':'run'}\n",
    "word = 'running'\n",
    "print(dictionary.get(word,word))"
   ]
  },
  {
   "cell_type": "code",
   "execution_count": null,
   "id": "59d4f15d-51d9-4699-9eb8-77c5d14b798d",
   "metadata": {},
   "outputs": [],
   "source": []
  }
 ],
 "metadata": {
  "kernelspec": {
   "display_name": "Python 3 (ipykernel)",
   "language": "python",
   "name": "python3"
  },
  "language_info": {
   "codemirror_mode": {
    "name": "ipython",
    "version": 3
   },
   "file_extension": ".py",
   "mimetype": "text/x-python",
   "name": "python",
   "nbconvert_exporter": "python",
   "pygments_lexer": "ipython3",
   "version": "3.12.7"
  }
 },
 "nbformat": 4,
 "nbformat_minor": 5
}
