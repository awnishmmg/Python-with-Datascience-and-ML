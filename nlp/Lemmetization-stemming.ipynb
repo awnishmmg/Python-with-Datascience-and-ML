{
 "cells": [
  {
   "cell_type": "markdown",
   "id": "d27ae013-54bf-4936-9fa0-394f4dab36de",
   "metadata": {},
   "source": [
    "### working with Lemmatization and Stemming Techniques"
   ]
  },
  {
   "cell_type": "markdown",
   "id": "2763f1d8-d939-417e-a626-74307d1e0a30",
   "metadata": {},
   "source": [
    " **Stemming Technique is technique of reducing the word to its root word (stem)**"
   ]
  },
  {
   "cell_type": "markdown",
   "id": "79b5915c-fcbe-4d81-bd4c-7909b55a92aa",
   "metadata": {},
   "source": [
    "**Eg: Running -> run, Eating -> eat, eaten -> eat**"
   ]
  },
  {
   "cell_type": "markdown",
   "id": "ca8180df-c9a2-49f8-be2b-3790e03fe25a",
   "metadata": {},
   "source": [
    "#### Rule Based Stemming | Porter Stemmer"
   ]
  },
  {
   "cell_type": "code",
   "execution_count": 4,
   "id": "f5ed4e92-3b40-4387-a868-d7e45f3ea7a1",
   "metadata": {},
   "outputs": [
    {
     "name": "stdout",
     "output_type": "stream",
     "text": [
      "run\n"
     ]
    }
   ],
   "source": [
    "from nltk.stem import PorterStemmer\n",
    "ps = PorterStemmer()\n",
    "print(ps.stem('running'))"
   ]
  },
  {
   "cell_type": "markdown",
   "id": "d7353dc7-1ec3-4e55-ab7c-924fa1e59a28",
   "metadata": {},
   "source": [
    "#### Dictionary Based : Different Forms of verbs have different key but stem word remains same"
   ]
  },
  {
   "cell_type": "code",
   "execution_count": 2,
   "id": "1cbc2ed6-eebf-46ea-8f66-d48a6979ca1f",
   "metadata": {},
   "outputs": [
    {
     "name": "stdout",
     "output_type": "stream",
     "text": [
      "run\n"
     ]
    }
   ],
   "source": [
    "dictionary = {'running':'run','ran':'run','runner':'run'}\n",
    "word = 'running'\n",
    "print(dictionary.get(word,word))"
   ]
  },
  {
   "cell_type": "markdown",
   "id": "99273609-2b4b-4812-ac65-3e63be17a3ad",
   "metadata": {},
   "source": [
    "#### Corpus Based Stemming Technique"
   ]
  },
  {
   "cell_type": "markdown",
   "id": "b3e174fe-4d50-4743-8e79-151bbe78c1e9",
   "metadata": {},
   "source": [
    "**It will pick up the word on the basis of the frequency**"
   ]
  },
  {
   "cell_type": "code",
   "execution_count": 4,
   "id": "403e614c-915d-4611-b752-c2538a5700e9",
   "metadata": {},
   "outputs": [
    {
     "name": "stdout",
     "output_type": "stream",
     "text": [
      "run\n"
     ]
    }
   ],
   "source": [
    "forms = {'run':50,'running':30,'ran':20}\n",
    "stem =  max(forms,key=forms.get)\n",
    "print(stem)"
   ]
  },
  {
   "cell_type": "markdown",
   "id": "bac0e61a-47b5-4656-b745-4b31cf302acc",
   "metadata": {},
   "source": [
    "#### Hybrid Stemming Technique : Prefined Technique with Custom\n"
   ]
  },
  {
   "cell_type": "markdown",
   "id": "7fa2b830-dbee-4f71-a273-5314cd0e9e77",
   "metadata": {},
   "source": [
    "**Predefined**"
   ]
  },
  {
   "cell_type": "code",
   "execution_count": null,
   "id": "f590ee32-4756-4c86-9e47-13fe65c521db",
   "metadata": {},
   "outputs": [],
   "source": [
    "from nltk.stem import PorterStemmer\n",
    "ps = PorterStemmer()"
   ]
  },
  {
   "cell_type": "markdown",
   "id": "f9c8d7cc-723f-4e7b-89ff-66e9980e38ec",
   "metadata": {},
   "source": [
    "**Custom Technique**"
   ]
  },
  {
   "cell_type": "code",
   "execution_count": 9,
   "id": "a96101fe-697d-4f0d-bb44-a77422d28bf2",
   "metadata": {},
   "outputs": [],
   "source": [
    "dictionary = {'running':'run'}\n",
    "word = 'running'"
   ]
  },
  {
   "cell_type": "code",
   "execution_count": 10,
   "id": "a606d744-6385-42d7-b97f-1c58491ae49c",
   "metadata": {},
   "outputs": [
    {
     "name": "stdout",
     "output_type": "stream",
     "text": [
      "run\n"
     ]
    }
   ],
   "source": [
    "print(dictionary.get(word,word))"
   ]
  },
  {
   "cell_type": "markdown",
   "id": "c3a0bc9e-cc65-4249-ad8d-e84e72db124c",
   "metadata": {},
   "source": [
    "#### Merging Both Predefined Algorithm + Customer Technique = Hybrid Stemming"
   ]
  },
  {
   "cell_type": "code",
   "execution_count": 12,
   "id": "de049fad-8556-46cd-bbe4-50ff72032d77",
   "metadata": {},
   "outputs": [
    {
     "name": "stdout",
     "output_type": "stream",
     "text": [
      "run\n"
     ]
    }
   ],
   "source": [
    "if word in dictionary:\n",
    "    stem = dictionary[word]\n",
    "else:\n",
    "    stem = ps.stem(word)\n",
    "print(stem)"
   ]
  },
  {
   "cell_type": "markdown",
   "id": "9a4c911b-baf5-497a-81f5-562afe9f9da6",
   "metadata": {},
   "source": [
    "#### Light Stemming Technique : we try to find stem word on basis of some prefix or suffix"
   ]
  },
  {
   "cell_type": "markdown",
   "id": "7c127eeb-7098-4d07-ad5d-a19277ac1da1",
   "metadata": {},
   "source": [
    "**suffix : post of the word**\n",
    "**prefix : pre of the word**"
   ]
  },
  {
   "cell_type": "code",
   "execution_count": 13,
   "id": "e2ed1a8d-635b-4e37-a777-3be8e3aefd83",
   "metadata": {},
   "outputs": [],
   "source": [
    "suffix = \"ing\""
   ]
  },
  {
   "cell_type": "code",
   "execution_count": 14,
   "id": "7e569ff9-2ad3-41c7-902e-4c450431ae68",
   "metadata": {},
   "outputs": [],
   "source": [
    "l = len(suffix)"
   ]
  },
  {
   "cell_type": "code",
   "execution_count": 15,
   "id": "a92537d8-74d0-4cf0-94ce-eccecfbbd3ca",
   "metadata": {},
   "outputs": [
    {
     "name": "stdout",
     "output_type": "stream",
     "text": [
      "3\n"
     ]
    }
   ],
   "source": [
    "print(l)"
   ]
  },
  {
   "cell_type": "code",
   "execution_count": 16,
   "id": "a3c05549-e7ec-4ce8-9436-b420f49bf9a9",
   "metadata": {},
   "outputs": [
    {
     "name": "stdin",
     "output_type": "stream",
     "text": [
      "Enter the word: eat\n"
     ]
    },
    {
     "name": "stdout",
     "output_type": "stream",
     "text": [
      "Light Stemming: eat\n"
     ]
    }
   ],
   "source": [
    "word = input('Enter the word:')\n",
    "if word.endswith(suffix):\n",
    "   stem = word[:l]\n",
    "else:\n",
    "    stem = word\n",
    "print('Light Stemming:',stem)"
   ]
  },
  {
   "cell_type": "code",
   "execution_count": 17,
   "id": "890efb48-17b3-4df4-91d8-81a2ef408afe",
   "metadata": {},
   "outputs": [
    {
     "name": "stdin",
     "output_type": "stream",
     "text": [
      "Enter the word: eating\n"
     ]
    },
    {
     "name": "stdout",
     "output_type": "stream",
     "text": [
      "Light Stemming: eat\n"
     ]
    }
   ],
   "source": [
    "word = input('Enter the word:')\n",
    "if word.endswith(suffix):\n",
    "   stem = word[:l]\n",
    "else:\n",
    "    stem = word\n",
    "print('Light Stemming:',stem)"
   ]
  },
  {
   "cell_type": "markdown",
   "id": "f87f9b64-a36c-440e-9c53-e43237ac664b",
   "metadata": {},
   "source": [
    "#### Langauge-specific Morphological Stemming (Hindi Example)"
   ]
  },
  {
   "cell_type": "markdown",
   "id": "08e6e33b-df57-4278-b6f3-160c7e92c0ba",
   "metadata": {},
   "source": [
    "**running -> Hindi form -> chalna**"
   ]
  },
  {
   "cell_type": "markdown",
   "id": "b34dc7fc-530a-4207-8448-b9aa5e817641",
   "metadata": {},
   "source": [
    "**Indicnlp used for Hindi NLP Techniques :\n",
    "https://github.com/anoopkunchukuttan/indic_nlp_library**"
   ]
  },
  {
   "cell_type": "code",
   "execution_count": 23,
   "id": "f65a0512-7c03-4f61-8a7c-24409e43b736",
   "metadata": {},
   "outputs": [
    {
     "name": "stdout",
     "output_type": "stream",
     "text": [
      "ladki\n"
     ]
    }
   ],
   "source": [
    "word = \"ladkiyon\" # girls\n",
    "suffix = \"yon\"\n",
    "l = len(suffix)\n",
    "stem = word[:-1*l] if word.endswith(suffix) else word\n",
    "print(stem)"
   ]
  },
  {
   "cell_type": "markdown",
   "id": "c1b35194-ebde-4a81-97cc-16be28700adc",
   "metadata": {},
   "source": [
    "#### Stemming Algorithms \n",
    " - Porter Stemmer\n",
    " - Snowball Stemmer\n",
    " - LanCaster Stemmer\n",
    "\n",
    "**Example**\n",
    "```word => running => Porter => run, snowball => run,lancaster=> run \n",
    "flies => porter => fli => fli => fli \n",
    "happily => happili => happi => happy \n",
    "fishing => fish => fish => fish\n",
    "better => better => better => bet"
   ]
  },
  {
   "cell_type": "code",
   "execution_count": 28,
   "id": "6affa4ff-97b9-4852-abbc-89463572dc83",
   "metadata": {},
   "outputs": [],
   "source": [
    "from nltk.stem import PorterStemmer,SnowballStemmer,LancasterStemmer"
   ]
  },
  {
   "cell_type": "code",
   "execution_count": 30,
   "id": "aacdea0d-7d0f-44c5-997b-a134345dfc4c",
   "metadata": {},
   "outputs": [],
   "source": [
    "ps = PorterStemmer()\n",
    "sb = SnowballStemmer('english') # Snowball stemmer takes english as langauge\n",
    "lc = LancasterStemmer()"
   ]
  },
  {
   "cell_type": "code",
   "execution_count": 33,
   "id": "18e8c9c7-6aef-48eb-9f80-d4f014fe6823",
   "metadata": {},
   "outputs": [
    {
     "name": "stdout",
     "output_type": "stream",
     "text": [
      " word                 Porter               Snowball             Lancaster           \n",
      "--------------------------------------------------------------------------------\n"
     ]
    }
   ],
   "source": [
    "words = ['running','flies','happily','fishing','better']\n",
    "print(f\" {'word':<20} {'Porter':<20} {'Snowball':<20} {'Lancaster':<20}\")\n",
    "print(\"-\"*80)"
   ]
  },
  {
   "cell_type": "code",
   "execution_count": 34,
   "id": "c25ddfe8-7cf5-479f-aecb-0cb3e80521e2",
   "metadata": {},
   "outputs": [
    {
     "name": "stdout",
     "output_type": "stream",
     "text": [
      " word                 Porter               Snowball             Lancaster           \n",
      "--------------------------------------------------------------------------------\n",
      " running              run                  run                  run                 \n",
      " flies                fli                  fli                  fli                 \n",
      " happily              happili              happili              happy               \n",
      " fishing              fish                 fish                 fish                \n",
      " better               better               better               bet                 \n",
      "--------------------------------------------------------------------------------\n"
     ]
    }
   ],
   "source": [
    "print(f\" {'word':<20} {'Porter':<20} {'Snowball':<20} {'Lancaster':<20}\")\n",
    "print(\"-\"*80)\n",
    "## use for loop to print the output\n",
    "for w in words:\n",
    "    print(f\" {w:<20} {ps.stem(w):<20} {sb.stem(w):<20} {lc.stem(w):<20}\")\n",
    "print(\"-\"*80)"
   ]
  },
  {
   "cell_type": "code",
   "execution_count": null,
   "id": "ad7f2d14-2132-43b3-a3f2-01554120f99d",
   "metadata": {},
   "outputs": [],
   "source": []
  }
 ],
 "metadata": {
  "kernelspec": {
   "display_name": "Python 3 (ipykernel)",
   "language": "python",
   "name": "python3"
  },
  "language_info": {
   "codemirror_mode": {
    "name": "ipython",
    "version": 3
   },
   "file_extension": ".py",
   "mimetype": "text/x-python",
   "name": "python",
   "nbconvert_exporter": "python",
   "pygments_lexer": "ipython3",
   "version": "3.12.7"
  }
 },
 "nbformat": 4,
 "nbformat_minor": 5
}
